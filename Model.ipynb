{
 "cells": [
  {
   "cell_type": "code",
   "execution_count": 1,
   "metadata": {
    "collapsed": true
   },
   "outputs": [],
   "source": [
    "import pandas as pd\n",
    "import numpy as np\n",
    "import requests\n",
    "import grequests\n",
    "import os.path\n",
    "import tensorflow as tf"
   ]
  },
  {
   "cell_type": "code",
   "execution_count": null,
   "metadata": {
    "collapsed": true
   },
   "outputs": [],
   "source": [
    "# shamelessly taken from https://danijar.com/variable-sequence-lengths-in-tensorflow/\n",
    "def getSequenceLengths(batchOfSequences):\n",
    "  used = tf.sign(tf.reduce_max(tf.abs(batchOfSequences), 2))\n",
    "  length = tf.reduce_sum(used, 1)\n",
    "  length = tf.cast(length, tf.int32)\n",
    "  return length"
   ]
  },
  {
   "cell_type": "code",
   "execution_count": null,
   "metadata": {
    "collapsed": true
   },
   "outputs": [],
   "source": [
    "flags = tf.flags\n",
    "logging = tf.logging"
   ]
  },
  {
   "cell_type": "code",
   "execution_count": null,
   "metadata": {
    "collapsed": true
   },
   "outputs": [],
   "source": [
    "flags.DEFINE_bool(\"train\", True, \"train mode (test mode if not)\")\n",
    "FLAGS = flags.FLAGS"
   ]
  },
  {
   "cell_type": "code",
   "execution_count": null,
   "metadata": {
    "collapsed": true
   },
   "outputs": [],
   "source": [
    "tf.logging.set_verbosity(tf.logging.INFO)"
   ]
  },
  {
   "cell_type": "code",
   "execution_count": 3,
   "metadata": {
    "collapsed": false
   },
   "outputs": [],
   "source": [
    "df = pd.read_pickle('final_processed_invoker_data')"
   ]
  },
  {
   "cell_type": "code",
   "execution_count": 12,
   "metadata": {
    "collapsed": false
   },
   "outputs": [],
   "source": [
    "columnDict = {}\n",
    "for i, v in enumerate(df.columns.values):\n",
    "    columnDict[i] = v\n",
    "indexDict = {v: k for k, v in columnDict.items()}\n",
    "numberEntries = len(df)\n",
    "batchSize = int(numberEntries/20)"
   ]
  },
  {
   "cell_type": "code",
   "execution_count": null,
   "metadata": {
    "collapsed": true
   },
   "outputs": [],
   "source": [
    "# 265 is highest ID, and we need a zero for empty\n",
    "DIM = 266\n",
    "matchItemsTensor = tf.placeholder(tf.float32, shape=shape=[None, None, DIM])\n",
    "batched_ItemData = tf.train.batch(\n",
    "    tensors=[matchItemsTensor],\n",
    "    batch_size=batchSize,\n",
    "    dynamic_pad=True,\n",
    "    name=\"lstm_batch\"\n",
    ")\n",
    "\n",
    "# shift each sequence to the left by one (stride to the right by 1)\n",
    "# and then pad at the end to maintain same lengths!\n",
    "batched_ItemData_strided = tf.strided_slice(batched_data, [0, 1, 0], batched_data.shape)\n",
    "targets = tf.pad(batched_ItemData_strided, [[0, 0], [0, 1], [0, 0]], \"CONSTANT\")\n",
    "\n",
    "batched_ItemDataSequenceLengths = getSequenceLengths(batched_ItemData)\n",
    "lstmHiddenSize = 50\n",
    "lstmCell = tf.contrib.rnn.BasicLSTMCell(lstmHiddenSize)"
   ]
  },
  {
   "cell_type": "code",
   "execution_count": null,
   "metadata": {
    "collapsed": true
   },
   "outputs": [],
   "source": [
    "lstmOutput, last_states = tf.nn.dynamic_rnn(\n",
    "    cell=lstmCell,\n",
    "    dtype=tf.float64,\n",
    "    sequence_length=batchSequenceLengths,\n",
    "    inputs=batched_data)"
   ]
  },
  {
   "cell_type": "code",
   "execution_count": null,
   "metadata": {
    "collapsed": true
   },
   "outputs": [],
   "source": [
    "lstmOutput = tf.reshape(lstmOutput, [-1, lstmHiddenSize])"
   ]
  },
  {
   "cell_type": "code",
   "execution_count": null,
   "metadata": {
    "collapsed": true
   },
   "outputs": [],
   "source": [
    "numberOfReps = lstmOutput.shape[0]\n",
    "numberOfFeaturesInHeroInfoMap = heroInfoMap.shape[1]\n",
    "heroInfoMap = tf.tile(heroInfoMap, [numberOfReps])\n",
    "heroInfoMap = tf.reshape(heroInfoMap, [-1, numberOfFeaturesInHeroInfoMap])\n",
    "comboLayer = tf.concat([lstmOutput, heroInfoMap], 1)\n",
    "logits = tf.matmul(comboLayer, weight) + bias\n",
    "\n",
    "\n",
    "loss = tf.nn.softmax_cross_entropy_with_logits(labels = targets, logits = logits)"
   ]
  },
  {
   "cell_type": "code",
   "execution_count": null,
   "metadata": {
    "collapsed": true
   },
   "outputs": [],
   "source": [
    "# default of 0.001\n",
    "learning_rate = 0.001\n",
    "# default of 0.99\n",
    "beta1 = 0.99\n",
    "# default of 0.999\n",
    "beta2 = 0.999\n",
    "optimizer = tf.train.AdamOptimizer(learning_rate = learning_rate, beta1 = beta1, beta2 = beta2)\n",
    "train_op = optimizer.minimize(loss)"
   ]
  },
  {
   "cell_type": "code",
   "execution_count": null,
   "metadata": {
    "collapsed": true
   },
   "outputs": [],
   "source": []
  },
  {
   "cell_type": "code",
   "execution_count": null,
   "metadata": {
    "collapsed": true
   },
   "outputs": [],
   "source": [
    "variable_dict = {'weights_1': weights_1, 'weights_2': weights_2,\n",
    "                     'bias_1': bias_1, 'bias_2': bias_2}\n",
    "saver = tf.train.Saver(variable_dict)\n",
    "init = tf.global_variables_initializer()"
   ]
  },
  {
   "cell_type": "code",
   "execution_count": null,
   "metadata": {
    "collapsed": true
   },
   "outputs": [],
   "source": []
  }
 ],
 "metadata": {
  "kernelspec": {
   "display_name": "Python 3",
   "language": "python",
   "name": "python3"
  },
  "language_info": {
   "codemirror_mode": {
    "name": "ipython",
    "version": 3
   },
   "file_extension": ".py",
   "mimetype": "text/x-python",
   "name": "python",
   "nbconvert_exporter": "python",
   "pygments_lexer": "ipython3",
   "version": "3.5.3"
  }
 },
 "nbformat": 4,
 "nbformat_minor": 2
}
