{
 "cells": [
  {
   "cell_type": "code",
   "execution_count": 2,
   "metadata": {
    "collapsed": true
   },
   "outputs": [],
   "source": [
    "import pandas as pd\n",
    "import numpy as np\n",
    "import requests\n",
    "import grequests\n",
    "import os.path\n",
    "import tensorflow as tf"
   ]
  },
  {
   "cell_type": "code",
   "execution_count": null,
   "metadata": {
    "collapsed": true
   },
   "outputs": [],
   "source": [
    "# shamelessly taken from https://danijar.com/variable-sequence-lengths-in-tensorflow/\n",
    "def getSequenceLengths(batchOfSequences):\n",
    "  used = tf.sign(tf.reduce_max(tf.abs(batchOfSequences), 2))\n",
    "  length = tf.reduce_sum(used, 1)\n",
    "  length = tf.cast(length, tf.int32)\n",
    "  return length"
   ]
  },
  {
   "cell_type": "code",
   "execution_count": null,
   "metadata": {
    "collapsed": true
   },
   "outputs": [],
   "source": [
    "flags = tf.flags\n",
    "logging = tf.logging"
   ]
  },
  {
   "cell_type": "code",
   "execution_count": null,
   "metadata": {
    "collapsed": true
   },
   "outputs": [],
   "source": [
    "flags.DEFINE_bool(\"train\", True, \"train mode (test mode if not)\")\n",
    "FLAGS = flags.FLAGS"
   ]
  },
  {
   "cell_type": "code",
   "execution_count": null,
   "metadata": {
    "collapsed": true
   },
   "outputs": [],
   "source": [
    "tf.logging.set_verbosity(tf.logging.INFO)"
   ]
  },
  {
   "cell_type": "code",
   "execution_count": 3,
   "metadata": {
    "collapsed": false
   },
   "outputs": [],
   "source": [
    "df = pd.read_pickle('final_processed_invoker_data')"
   ]
  },
  {
   "cell_type": "code",
   "execution_count": 12,
   "metadata": {
    "collapsed": false
   },
   "outputs": [],
   "source": [
    "columnDict = {}\n",
    "for i, v in enumerate(df.columns.values):\n",
    "    columnDict[i] = v\n",
    "indexDict = {v: k for k, v in columnDict.items()}\n",
    "numberEntries = len(df)\n",
    "batchSize = int(numberEntries/20)"
   ]
  },
  {
   "cell_type": "code",
   "execution_count": null,
   "metadata": {
    "collapsed": true
   },
   "outputs": [],
   "source": [
    "# 265 is highest ID, and we need a zero for empty\n",
    "DIM = 266\n",
    "matchItemsTensor = tf.placeholder(tf.float32, shape=shape=[None, None, DIM])\n",
    "batched_data = tf.train.batch(\n",
    "    tensors=[matchItemsTensor],\n",
    "    batch_size=batchSize,\n",
    "    dynamic_pad=True,\n",
    "    name=\"lstm_batch\"\n",
    ")\n",
    "\n",
    "# shift each sequence to the left by one (stride to the right by 1)\n",
    "# and then pad at the end to maintain same lengths!\n",
    "batched_data_strided = tf.strided_slice(batched_data, [0, 1, 0], batched_data.shape)\n",
    "target = tf.pad(batched_data_strided, [[0, 0], [0, 1], [0, 0]], \"CONSTANT\")\n",
    "\n",
    "batchSequenceLengths = getSequenceLengths(batched_data)\n",
    "lstmHiddenSize = 50\n",
    "lstmCell = tf.contrib.rnn.BasicLSTMCell(lstmHiddenSize)"
   ]
  },
  {
   "cell_type": "code",
   "execution_count": null,
   "metadata": {
    "collapsed": true
   },
   "outputs": [],
   "source": []
  },
  {
   "cell_type": "code",
   "execution_count": null,
   "metadata": {
    "collapsed": true
   },
   "outputs": [],
   "source": [
    "lstmOutput, last_states = tf.nn.dynamic_rnn(\n",
    "    cell=lstmCell,\n",
    "    dtype=tf.float64,\n",
    "    sequence_length=batchSequenceLengths,\n",
    "    inputs=batched_data)"
   ]
  },
  {
   "cell_type": "code",
   "execution_count": null,
   "metadata": {
    "collapsed": true
   },
   "outputs": [],
   "source": [
    "lstmOutput = tf.reshape(lstmOutput, [-1, lstmHiddenSize])"
   ]
  },
  {
   "cell_type": "code",
   "execution_count": null,
   "metadata": {
    "collapsed": true
   },
   "outputs": [],
   "source": [
    "comboLayer = tf.concat([lstmOutput, heroInfoMap], 1)\n",
    "prediction = tf.nn.softmax(tf.matmul(output, weight) + bias)\n",
    "logics = tf."
   ]
  },
  {
   "cell_type": "code",
   "execution_count": null,
   "metadata": {
    "collapsed": true
   },
   "outputs": [],
   "source": []
  },
  {
   "cell_type": "code",
   "execution_count": null,
   "metadata": {
    "collapsed": true
   },
   "outputs": [],
   "source": [
    "variable_dict = {'weights_1': weights_1, 'weights_2': weights_2,\n",
    "                     'bias_1': bias_1, 'bias_2': bias_2}\n",
    "saver = tf.train.Saver(variable_dict)\n",
    "init = tf.global_variables_initializer()"
   ]
  },
  {
   "cell_type": "code",
   "execution_count": 6,
   "metadata": {
    "collapsed": false
   },
   "outputs": [],
   "source": [
    "c = tf.constant([[\n",
    "            [0, 0, 0], [1, 1, 1], [2, 2, 2]],[\n",
    "             [3, 3, 3], [4,4,4], [5,5,5]    ]])"
   ]
  },
  {
   "cell_type": "code",
   "execution_count": 33,
   "metadata": {
    "collapsed": false
   },
   "outputs": [],
   "source": [
    "c_strided = tf.strided_slice(c, [0, 1, 0], c.shape)\n",
    "\n",
    "c_padded = tf.pad(c_strided, [[0, 0], [0, 1], [0, 0]], \"CONSTANT\")"
   ]
  },
  {
   "cell_type": "code",
   "execution_count": 34,
   "metadata": {
    "collapsed": false
   },
   "outputs": [
    {
     "name": "stdout",
     "output_type": "stream",
     "text": [
      "(2, 3, 3)\n"
     ]
    }
   ],
   "source": [
    "print(c.shape)"
   ]
  },
  {
   "cell_type": "code",
   "execution_count": 35,
   "metadata": {
    "collapsed": false
   },
   "outputs": [
    {
     "name": "stdout",
     "output_type": "stream",
     "text": [
      "[[[0 0 0]\n",
      "  [1 1 1]\n",
      "  [2 2 2]]\n",
      "\n",
      " [[3 3 3]\n",
      "  [4 4 4]\n",
      "  [5 5 5]]]\n",
      "[[0 0 0]\n",
      " [1 1 1]\n",
      " [2 2 2]]\n",
      "[[3 3 3]\n",
      " [4 4 4]\n",
      " [5 5 5]]\n",
      "stride\n",
      "[[[1 1 1]\n",
      "  [2 2 2]]\n",
      "\n",
      " [[4 4 4]\n",
      "  [5 5 5]]]\n",
      "[[1 1 1]\n",
      " [2 2 2]]\n",
      "[[4 4 4]\n",
      " [5 5 5]]\n",
      "pad\n",
      "[[[1 1 1]\n",
      "  [2 2 2]\n",
      "  [0 0 0]]\n",
      "\n",
      " [[4 4 4]\n",
      "  [5 5 5]\n",
      "  [0 0 0]]]\n",
      "[[1 1 1]\n",
      " [2 2 2]\n",
      " [0 0 0]]\n",
      "[[4 4 4]\n",
      " [5 5 5]\n",
      " [0 0 0]]\n"
     ]
    }
   ],
   "source": [
    "with tf.Session() as sess:\n",
    "    c_val = sess.run(c)\n",
    "    c_strided_val = sess.run(c_strided)\n",
    "    c_padded_val = sess.run(c_padded)\n",
    "    print(c_val)\n",
    "    print(c_val[0])\n",
    "    print(c_val[1])\n",
    "    print(\"stride\")\n",
    "    print(c_strided_val)\n",
    "    print(c_strided_val[0])\n",
    "    print(c_strided_val[1])\n",
    "    print(\"pad\")\n",
    "    print(c_padded_val)\n",
    "    print(c_padded_val[0])\n",
    "    print(c_padded_val[1])"
   ]
  },
  {
   "cell_type": "code",
   "execution_count": null,
   "metadata": {
    "collapsed": true
   },
   "outputs": [],
   "source": []
  },
  {
   "cell_type": "code",
   "execution_count": null,
   "metadata": {
    "collapsed": true
   },
   "outputs": [],
   "source": []
  }
 ],
 "metadata": {
  "kernelspec": {
   "display_name": "Python 3",
   "language": "python",
   "name": "python3"
  },
  "language_info": {
   "codemirror_mode": {
    "name": "ipython",
    "version": 3
   },
   "file_extension": ".py",
   "mimetype": "text/x-python",
   "name": "python",
   "nbconvert_exporter": "python",
   "pygments_lexer": "ipython3",
   "version": "3.5.3"
  }
 },
 "nbformat": 4,
 "nbformat_minor": 2
}
