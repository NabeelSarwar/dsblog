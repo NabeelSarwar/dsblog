{
 "cells": [
  {
   "cell_type": "code",
   "execution_count": 1,
   "metadata": {
    "collapsed": true
   },
   "outputs": [],
   "source": [
    "import pandas as pd\n",
    "import numpy as np\n",
    "import requests\n",
    "import grequests\n",
    "import os.path\n",
    "import tensorflow as tf\n",
    "\n",
    "import datetime"
   ]
  },
  {
   "cell_type": "code",
   "execution_count": 2,
   "metadata": {
    "collapsed": true
   },
   "outputs": [],
   "source": [
    "# shamelessly taken from https://danijar.com/variable-sequence-lengths-in-tensorflow/\n",
    "def getSequenceLengths(batchOfSequences):\n",
    "  used = tf.sign(tf.reduce_max(tf.abs(batchOfSequences), 2))\n",
    "  length = tf.reduce_sum(used, 1)\n",
    "  length = tf.cast(length, tf.int32)\n",
    "  return length"
   ]
  },
  {
   "cell_type": "code",
   "execution_count": 3,
   "metadata": {
    "collapsed": false
   },
   "outputs": [
    {
     "name": "stderr",
     "output_type": "stream",
     "text": [
      "usage: ipykernel_launcher.py [-h] -t TRAIN\n",
      "ipykernel_launcher.py: error: the following arguments are required: -t/--train\n"
     ]
    },
    {
     "ename": "SystemExit",
     "evalue": "2",
     "output_type": "error",
     "traceback": [
      "An exception has occurred, use %tb to see the full traceback.\n",
      "\u001b[0;31mSystemExit\u001b[0m\u001b[0;31m:\u001b[0m 2\n"
     ]
    },
    {
     "name": "stderr",
     "output_type": "stream",
     "text": [
      "/home/nabeel/.local/lib/python3.5/site-packages/IPython/core/interactiveshell.py:2870: UserWarning: To exit: use 'exit', 'quit', or Ctrl-D.\n",
      "  warn(\"To exit: use 'exit', 'quit', or Ctrl-D.\", stacklevel=1)\n"
     ]
    }
   ],
   "source": [
    "import argparse\n",
    "\n",
    "parser = argparse.ArgumentParser(description = \"Please insert the train flag\")\n",
    "parser.add_argument('-t', '--train', action = \"store\",\n",
    "                    help='If true, we train and save. Else, otherwise.', required = True)\n",
    "\n",
    "my_args = vars(parser.parse_args())\n",
    "trainFlag = my_args['train']\n",
    "trainFlag = trainFlag.lower() in (\"True\", \"t\", \"true\", \"1\", 1)"
   ]
  },
  {
   "cell_type": "code",
   "execution_count": 4,
   "metadata": {
    "collapsed": true
   },
   "outputs": [],
   "source": [
    "logging = tf.logging"
   ]
  },
  {
   "cell_type": "code",
   "execution_count": 5,
   "metadata": {
    "collapsed": false
   },
   "outputs": [],
   "source": [
    "tf.logging.set_verbosity(tf.logging.INFO)"
   ]
  },
  {
   "cell_type": "code",
   "execution_count": 6,
   "metadata": {
    "collapsed": false
   },
   "outputs": [
    {
     "name": "stdout",
     "output_type": "stream",
     "text": [
      "2017-08-27 21:18:47.906131\n"
     ]
    }
   ],
   "source": [
    "print(datetime.datetime.now())"
   ]
  },
  {
   "cell_type": "code",
   "execution_count": 7,
   "metadata": {
    "collapsed": false
   },
   "outputs": [],
   "source": [
    "df = np.load('invokerItems.npy')\n",
    "match_ids = pd.read_pickle('final_processed_invoker_data')['matchId']\n",
    "\n",
    "x = np.random.rand(df.shape[0])\n",
    "mask = np.where(x < 0.75)[0]\n",
    "mask2 = np.where(x >= 0.75)[0]\n",
    "df_train = df[mask, :]\n",
    "df_test = df[mask2, :]\n",
    "match_ids_train = match_ids.iloc[mask]\n",
    "match_ids_test = match_ids.iloc[mask2]"
   ]
  },
  {
   "cell_type": "code",
   "execution_count": 8,
   "metadata": {
    "collapsed": false
   },
   "outputs": [],
   "source": [
    "# 265 is highest ID, and we need a zero for empty\n",
    "NUM_ITEMS = 266\n",
    "DIM = NUM_ITEMS\n",
    "\n",
    "batchSize = int(len(df) * 1.0 /20)\n",
    "batched_ItemData = tf.placeholder(tf.float32, shape=[None, None, DIM])\n",
    "\n",
    "batched_ItemData = tf.pad(batched_ItemData, [[0, 0], [0, 1], [0, 0]], \"CONSTANT\")\n",
    "# shift each sequence to the left by one (stride to the right by 1)\n",
    "# and then pad at the end to maintain same lengths!\n",
    "batched_ItemData_strided = tf.strided_slice(batched_ItemData, [0, 1, 0], tf.shape(batched_ItemData))\n",
    "targets = tf.pad(batched_ItemData_strided, [[0, 0], [0, 1], [0, 0]], \"CONSTANT\")\n",
    "MAX_SequenceLength = df.shape[1]\n",
    "batched_ItemDataSequenceLengths = getSequenceLengths(batched_ItemData)\n",
    "lstmHiddenSize = 50\n",
    "lstmCell = tf.contrib.rnn.BasicLSTMCell(lstmHiddenSize)"
   ]
  },
  {
   "cell_type": "code",
   "execution_count": 9,
   "metadata": {
    "collapsed": false
   },
   "outputs": [],
   "source": [
    "state = tf.Variable(lstmCell.zero_state(batchSize, tf.float32), trainable=False, name='lstm_state')\n",
    "\n",
    "lstmOutput, last_states = tf.nn.dynamic_rnn(\n",
    "    cell=lstmCell,\n",
    "    dtype=tf.float32,\n",
    "    sequence_length=batched_ItemDataSequenceLengths,\n",
    "    inputs=batched_ItemData,\n",
    "    initial_state = tf.nn.rnn_cell.LSTMStateTuple(state[0], state[1]))\n",
    "\n",
    "# the assign is run every time we run on lstmOutput because of the with\n",
    "with tf.control_dependencies([state.assign(last_states)]):\n",
    "    lstmOutput = tf.identity(lstmOutput)"
   ]
  },
  {
   "cell_type": "code",
   "execution_count": 10,
   "metadata": {
    "collapsed": false
   },
   "outputs": [],
   "source": [
    "lstmOutput = tf.reshape(lstmOutput, [-1, lstmHiddenSize])"
   ]
  },
  {
   "cell_type": "code",
   "execution_count": 11,
   "metadata": {
    "collapsed": false
   },
   "outputs": [],
   "source": [
    "with tf.variable_scope('LayerToLogits'):\n",
    "    weights = tf.Variable(tf.random_normal([lstmHiddenSize, NUM_ITEMS], stddev = 1.0/NUM_ITEMS/100), name='weightsLayer')\n",
    "    bias = tf.Variable(tf.random_normal([NUM_ITEMS], stddev = 1.0/NUM_ITEMS/100), name='biasLayer')"
   ]
  },
  {
   "cell_type": "code",
   "execution_count": 12,
   "metadata": {
    "collapsed": false
   },
   "outputs": [],
   "source": [
    "logits = tf.matmul(lstmOutput, weights) + bias\n",
    "targets = tf.reshape(targets, [-1, DIM])\n",
    "\n",
    "with tf.variable_scope('accuracy'):\n",
    "    with tf.variable_scope('correct_prediction'):\n",
    "        correct_predictions = tf.equal(tf.argmax(logits, 1), tf.argmax(targets, 1))\n",
    "        correct_predictions = tf.reshape(correct_predictions, shape=[batchSize, MAX_SequenceLength])\n",
    "        correct_predictions = tf.cast(correct_predictions, tf.float32)\n",
    "    with tf.variable_scope('accuracy'):\n",
    "        accuracyPerSequence = tf.reduce_sum(correct_predictions, reduction_indices=1) / \\\n",
    "            tf.cast(batched_ItemDataSequenceLengths, tf.float32)\n",
    "        averageAccuracy =  tf.reduce_mean(accuracyPerSequence)\n",
    "\n",
    "loss = tf.nn.softmax_cross_entropy_with_logits(labels = targets, logits = logits)\n",
    "mask = tf.sign(tf.reduce_max(tf.abs(targets), 1))\n",
    "loss = mask * loss\n",
    "loss = tf.reshape(loss, shape=[batchSize, MAX_SequenceLength])\n",
    "# loss is 2d in a dynamic length way and then make it 1d to then reduce on\n",
    "loss_per_sequence = tf.reduce_sum(loss, reduction_indices=1) / tf.cast(batched_ItemDataSequenceLengths, tf.float32)\n",
    "cost = tf.reduce_mean(loss_per_sequence)"
   ]
  },
  {
   "cell_type": "code",
   "execution_count": 13,
   "metadata": {
    "collapsed": false
   },
   "outputs": [],
   "source": [
    "# default of 0.001\n",
    "learning_rate = 0.001\n",
    "# default of 0.99\n",
    "beta1 = 0.99\n",
    "# default of 0.999\n",
    "beta2 = 0.999\n",
    "optimizer = tf.train.AdamOptimizer(learning_rate = learning_rate, beta1 = beta1, beta2 = beta2)\n",
    "\n",
    "global_step = tf.Variable(0, name='global_step', trainable=False)\n",
    "\n",
    "gradients, variables = zip(*optimizer.compute_gradients(cost))\n",
    "gradients, _ = tf.clip_by_global_norm(gradients, 5.0)\n",
    "train_op = optimizer.apply_gradients(zip(gradients, variables), global_step = global_step)"
   ]
  },
  {
   "cell_type": "markdown",
   "metadata": {},
   "source": [
    "** Generate summary information **"
   ]
  },
  {
   "cell_type": "code",
   "execution_count": 14,
   "metadata": {
    "collapsed": false
   },
   "outputs": [],
   "source": [
    "# code from tensorflow documentation\n",
    "def variable_summaries(var):\n",
    "  \"\"\"Attach a lot of summaries to a Tensor (for TensorBoard visualization).\"\"\"\n",
    "  with tf.name_scope('summaries'):\n",
    "    mean = tf.reduce_mean(var)\n",
    "    tf.summary.scalar('mean', mean)\n",
    "    with tf.name_scope('stddev'):\n",
    "      stddev = tf.sqrt(tf.reduce_mean(tf.square(var - mean)))\n",
    "    tf.summary.scalar('stddev', stddev)\n",
    "    tf.summary.scalar('max', tf.reduce_max(var))\n",
    "    tf.summary.scalar('min', tf.reduce_min(var))\n",
    "    tf.summary.histogram('histogram', var)\n",
    "    \n",
    "with tf.name_scope('weights'):\n",
    "    variable_summaries(weights)\n",
    "    \n",
    "with tf.name_scope('bias'):\n",
    "    variable_summaries(bias)\n",
    "\n",
    "with tf.name_scope(\"loss\"):\n",
    "    variable_summaries(loss_per_sequence)\n",
    "    # this number is already calculated in variable_summaries of loss_per_sequence but be explicit\n",
    "    tf.summary.scalar('cost', cost)\n",
    "    \n",
    "with tf.name_scope(\"accuracy\"):\n",
    "    variable_summaries(accuracyPerSequence)\n",
    "    # this number is already calculated in variable_summaries of accuracyPerSequence but be explicit\n",
    "    tf.summary.scalar('accuracy', averageAccuracy)\n",
    "\n",
    "summary_op = tf.summary.merge_all()"
   ]
  },
  {
   "cell_type": "code",
   "execution_count": 15,
   "metadata": {
    "collapsed": true
   },
   "outputs": [],
   "source": [
    "saver = tf.train.Saver()\n",
    "init = tf.global_variables_initializer()\n",
    "ckpoint_dir = os.path.join(os.getcwd(), 'model-backups/model.ckpt')"
   ]
  },
  {
   "cell_type": "code",
   "execution_count": 16,
   "metadata": {
    "collapsed": false
   },
   "outputs": [],
   "source": [
    "def train(sess):\n",
    "    numEpochs = 1000\n",
    "    numBatches = 10\n",
    "    for epochIter in range(numEpochs):\n",
    "        print('Epoch: {0}'.format(epochIter))\n",
    "        for batchItr in range(numBatches):\n",
    "            samp = np.random.choice(np.arange(df_train.shape[0]), size=batchSize, replace=True, p=None)\n",
    "            if (epochIter+1) % 50 == 0:\n",
    "                summaries, _ = sess.run([summary_op, train_op], \n",
    "                                         feed_dict = {batched_ItemData : df_train[samp, :, :]})\n",
    "                train_writer.add_summary(summaries, epochIter)\n",
    "                # plus 1 to get a more readable number is tensorboard\n",
    "                saver.save(sess, ckpoint_dir, global_step = global_step)\n",
    "            else:\n",
    "                sess.run(train_op, feed_dict = {batched_ItemData : df_train[samp, :, :]})"
   ]
  },
  {
   "cell_type": "code",
   "execution_count": 17,
   "metadata": {
    "collapsed": true
   },
   "outputs": [],
   "source": [
    "def test(sess):\n",
    "    summaries, averageAccuracy_val, cost_val = sess.run([summary_op, averageAccuracy, cost], \n",
    "                                         feed_dict = {batched_ItemData : df_test})\n",
    "    print('Accuracy: {0}'.format(averageAccuracy_val))\n",
    "    print('Loss: {0}'.format(cost_val))\n",
    "    test_writer.add_summary(summaries, epochIter)"
   ]
  },
  {
   "cell_type": "code",
   "execution_count": null,
   "metadata": {
    "collapsed": false
   },
   "outputs": [],
   "source": [
    "def encodeItem(itemId):\n",
    "    return [int(i==int(itemId)) for i in range(NUM_ITEMS)]\n",
    "\n",
    "def generate(sess, initialItems, initialState = state):\n",
    "    pass"
   ]
  },
  {
   "cell_type": "code",
   "execution_count": null,
   "metadata": {
    "collapsed": false
   },
   "outputs": [
    {
     "name": "stdout",
     "output_type": "stream",
     "text": [
      "Epoch: 0\n",
      "Epoch: 1\n",
      "Epoch: 2\n",
      "Epoch: 3\n",
      "Epoch: 4\n",
      "Epoch: 5\n",
      "Epoch: 6\n",
      "Epoch: 7\n",
      "Epoch: 8\n",
      "Epoch: 9\n",
      "Epoch: 10\n",
      "Epoch: 11\n",
      "Epoch: 12\n",
      "Epoch: 13\n",
      "Epoch: 14\n",
      "Epoch: 15\n",
      "Epoch: 16\n",
      "Epoch: 17\n",
      "Epoch: 18\n",
      "Epoch: 19\n",
      "Epoch: 20\n",
      "Epoch: 21\n",
      "Epoch: 22\n"
     ]
    }
   ],
   "source": [
    "trainFlag = True\n",
    "with tf.Session() as sess:\n",
    "    train_writer = tf.summary.FileWriter('logs/train',\n",
    "                                      sess.graph)\n",
    "    test_writer = tf.summary.FileWriter('logs/test')\n",
    "    if (trainFlag):\n",
    "        sess.run(init)\n",
    "        train(sess)\n",
    "    else:\n",
    "        print('Doing test')\n",
    "        saver.restore(sess, ckpoint_dir)\n",
    "        test(sess)"
   ]
  },
  {
   "cell_type": "code",
   "execution_count": null,
   "metadata": {
    "collapsed": true
   },
   "outputs": [],
   "source": []
  }
 ],
 "metadata": {
  "kernelspec": {
   "display_name": "Python 3",
   "language": "python",
   "name": "python3"
  },
  "language_info": {
   "codemirror_mode": {
    "name": "ipython",
    "version": 3
   },
   "file_extension": ".py",
   "mimetype": "text/x-python",
   "name": "python",
   "nbconvert_exporter": "python",
   "pygments_lexer": "ipython3",
   "version": "3.5.2"
  }
 },
 "nbformat": 4,
 "nbformat_minor": 2
}
