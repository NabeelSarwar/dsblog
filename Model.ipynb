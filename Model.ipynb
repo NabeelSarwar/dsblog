{
 "cells": [
  {
   "cell_type": "code",
   "execution_count": 1,
   "metadata": {
    "collapsed": true
   },
   "outputs": [],
   "source": [
    "import pandas as pd\n",
    "import numpy as np\n",
    "import requests\n",
    "import grequests\n",
    "import os.path\n",
    "import tensorflow as tf"
   ]
  },
  {
   "cell_type": "code",
   "execution_count": 3,
   "metadata": {
    "collapsed": false
   },
   "outputs": [],
   "source": [
    "df = pd.read_pickle('final_processed_invoker_data')"
   ]
  },
  {
   "cell_type": "code",
   "execution_count": 12,
   "metadata": {
    "collapsed": false
   },
   "outputs": [],
   "source": [
    "columnDict = {}\n",
    "for i, v in enumerate(df.columns.values):\n",
    "    columnDict[i] = v\n",
    "indexDict = {v: k for k, v in columnDict.items()}\n",
    "numberEntries = len(df)\n",
    "batchSize = int(numberEntries/20)"
   ]
  },
  {
   "cell_type": "code",
   "execution_count": null,
   "metadata": {
    "collapsed": true
   },
   "outputs": [],
   "source": [
    "matchItemsTensor = tf.placeholder(tf.float32, shape=shape=[None, None, 266])\n",
    "batched_data = tf.train.batch(\n",
    "    tensors=[matchItemsTensor],\n",
    "    batch_size=batchSize,\n",
    "    dynamic_pad=True,\n",
    "    name=\"lstm_batch\"\n",
    ")\n",
    "lstmCell = tf.contrib.rnn.BasicLSTMCell(50)"
   ]
  }
 ],
 "metadata": {
  "kernelspec": {
   "display_name": "Python 3",
   "language": "python",
   "name": "python3"
  },
  "language_info": {
   "codemirror_mode": {
    "name": "ipython",
    "version": 3
   },
   "file_extension": ".py",
   "mimetype": "text/x-python",
   "name": "python",
   "nbconvert_exporter": "python",
   "pygments_lexer": "ipython3",
   "version": "3.5.2"
  }
 },
 "nbformat": 4,
 "nbformat_minor": 2
}
