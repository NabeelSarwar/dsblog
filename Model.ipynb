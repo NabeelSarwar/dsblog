{
 "cells": [
  {
   "cell_type": "code",
   "execution_count": 2,
   "metadata": {
    "collapsed": true
   },
   "outputs": [],
   "source": [
    "import pandas as pd\n",
    "import numpy as np\n",
    "import requests\n",
    "import grequests\n",
    "import os.path\n",
    "import tensorflow as tf"
   ]
  },
  {
   "cell_type": "code",
   "execution_count": 3,
   "metadata": {
    "collapsed": true
   },
   "outputs": [],
   "source": [
    "# shamelessly taken from https://danijar.com/variable-sequence-lengths-in-tensorflow/\n",
    "def getSequenceLengths(batchOfSequences):\n",
    "  used = tf.sign(tf.reduce_max(tf.abs(batchOfSequences), 2))\n",
    "  length = tf.reduce_sum(used, 1)\n",
    "  length = tf.cast(length, tf.int32)\n",
    "  return length"
   ]
  },
  {
   "cell_type": "code",
   "execution_count": 4,
   "metadata": {
    "collapsed": true
   },
   "outputs": [],
   "source": [
    "flags = tf.flags\n",
    "logging = tf.logging"
   ]
  },
  {
   "cell_type": "code",
   "execution_count": 5,
   "metadata": {
    "collapsed": false
   },
   "outputs": [],
   "source": [
    "flags.DEFINE_bool(\"train\", True, \"train mode (test mode if not)\")\n",
    "FLAGS = flags.FLAGS"
   ]
  },
  {
   "cell_type": "code",
   "execution_count": 6,
   "metadata": {
    "collapsed": false
   },
   "outputs": [],
   "source": [
    "tf.logging.set_verbosity(tf.logging.INFO)"
   ]
  },
  {
   "cell_type": "code",
   "execution_count": 124,
   "metadata": {
    "collapsed": false
   },
   "outputs": [
    {
     "name": "stdout",
     "output_type": "stream",
     "text": [
      "True\n"
     ]
    }
   ],
   "source": [
    "df = pd.read_pickle('final_processed_invoker_data')\n",
    "invokerItems = np.load('invokerItems.npy')"
   ]
  },
  {
   "cell_type": "code",
   "execution_count": 8,
   "metadata": {
    "collapsed": false
   },
   "outputs": [],
   "source": [
    "# 265 is highest ID, and we need a zero for empty\n",
    "DIM = 266\n",
    "batchSize = int(len(df) * 1.0 /20)\n",
    "batched_ItemData = tf.placeholder(tf.float32, shape=[None, None, DIM])\n",
    "\n",
    "batched_ItemData = tf.pad(batched_ItemData, [[0, 0], [0, 1], [0, 0]], \"CONSTANT\")\n",
    "# shift each sequence to the left by one (stride to the right by 1)\n",
    "# and then pad at the end to maintain same lengths!\n",
    "batched_ItemData_strided = tf.strided_slice(batched_ItemData, [0, 1, 0], tf.shape(batched_ItemData))\n",
    "targets = tf.pad(batched_ItemData_strided, [[0, 0], [0, 1], [0, 0]], \"CONSTANT\")\n",
    "MAX_SequenceLength = batched_ItemData.shape[1]\n",
    "batched_ItemDataSequenceLengths = getSequenceLengths(batched_ItemData)\n",
    "lstmHiddenSize = 50\n",
    "lstmCell = tf.contrib.rnn.BasicLSTMCell(lstmHiddenSize)"
   ]
  },
  {
   "cell_type": "code",
   "execution_count": 20,
   "metadata": {
    "collapsed": false
   },
   "outputs": [
    {
     "name": "stdout",
     "output_type": "stream",
     "text": [
      "Tensor(\"strided_slice_5:0\", shape=(50,), dtype=float32)\n"
     ]
    }
   ],
   "source": [
    "state = tf.Variable(lstmCell.zero_state(batchSize, tf.float32), trainable=False)\n",
    "\n",
    "lstmOutput, last_states = tf.nn.dynamic_rnn(\n",
    "    cell=lstmCell,\n",
    "    dtype=tf.float32,\n",
    "    sequence_length=batched_ItemDataSequenceLengths,\n",
    "    inputs=batched_ItemData,\n",
    "    initial_state = tf.nn.rnn_cell.LSTMStateTuple(state[0], state[1]))\n",
    "\n",
    "with tf.control_dependencies([state.assign(last_states)]):\n",
    "    lstmOutput = tf.identity(lstmOutput)"
   ]
  },
  {
   "cell_type": "code",
   "execution_count": 10,
   "metadata": {
    "collapsed": false
   },
   "outputs": [],
   "source": [
    "lstmOutput = tf.reshape(lstmOutput, [-1, lstmHiddenSize])"
   ]
  },
  {
   "cell_type": "code",
   "execution_count": null,
   "metadata": {
    "collapsed": false
   },
   "outputs": [],
   "source": [
    "logits = tf.matmul(lstmOutput, weight) + bias\n",
    "targets = tf.reshape(targets, [-1, DIM])\n",
    "mask = tf.sign(tf.reduce_max(tf.abs(targets), 1))\n",
    "loss = tf.nn.softmax_cross_entropy_with_logits(labels = targets, logits = logits)\n",
    "loss = mask * loss\n",
    "loss = loss.reshape(loss, [batchSize, MAX_SequenceLength])\n",
    "mean_loss = tf.reduce_sum(loss, reduction_indices=1) / batchSequenceLengths\n",
    "cost = tf.reduce_mean(mean_loss)"
   ]
  },
  {
   "cell_type": "code",
   "execution_count": null,
   "metadata": {
    "collapsed": false
   },
   "outputs": [],
   "source": [
    "# default of 0.001\n",
    "learning_rate = 0.001\n",
    "# default of 0.99\n",
    "beta1 = 0.99\n",
    "# default of 0.999\n",
    "beta2 = 0.999\n",
    "optimizer = tf.train.AdamOptimizer(learning_rate = learning_rate, beta1 = beta1, beta2 = beta2)\n",
    "\n",
    "gradients, variables = zip(*optimizer.compute_gradients(cost))\n",
    "gradients, _ = tf.clip_by_global_norm(gradients, 5.0)\n",
    "train_op = optimizer.apply_gradients(zip(gradients, variables))"
   ]
  },
  {
   "cell_type": "code",
   "execution_count": null,
   "metadata": {
    "collapsed": true
   },
   "outputs": [],
   "source": [
    "saver = tf.train.Saver()\n",
    "init = tf.global_variables_initializer()\n",
    "ckpoint_dir = os.path.join(os.getcwd(), 'model-backups/model.ckpt')"
   ]
  },
  {
   "cell_type": "code",
   "execution_count": null,
   "metadata": {
    "collapsed": false
   },
   "outputs": [],
   "source": [
    "def train(sess):\n",
    "    numEpochs = 1000\n",
    "    numBatches = 1000\n",
    "    for epochIter in xrange(numEpochs):\n",
    "        print('Epoch: {0}'.format(epochIter))\n",
    "        if (epochIter+1) % 50 == 0:\n",
    "            saver.save(sess, ckpoint_dir)\n",
    "        for batchItr in xrange(numBatches):\n",
    "            sess.run(train_op, feed_dict = {x : df['invokerItems'].sample(n=batchSize)})"
   ]
  },
  {
   "cell_type": "code",
   "execution_count": null,
   "metadata": {
    "collapsed": true
   },
   "outputs": [],
   "source": [
    "trainFlag = True\n",
    "with tf.Session() as sess:\n",
    "    if (trainFlag):\n",
    "        sess.run(init)\n",
    "        train(sess)\n",
    "    else:\n",
    "        print 'Doing test'"
   ]
  },
  {
   "cell_type": "code",
   "execution_count": 123,
   "metadata": {
    "collapsed": false
   },
   "outputs": [],
   "source": [
    "with tf.Session() as sess:\n",
    "    invokerItems = np.load('invokerItems.npy')\n",
    "    tf.constant(invokerItems)"
   ]
  },
  {
   "cell_type": "code",
   "execution_count": null,
   "metadata": {
    "collapsed": true
   },
   "outputs": [],
   "source": []
  }
 ],
 "metadata": {
  "kernelspec": {
   "display_name": "Python 3",
   "language": "python",
   "name": "python3"
  },
  "language_info": {
   "codemirror_mode": {
    "name": "ipython",
    "version": 3
   },
   "file_extension": ".py",
   "mimetype": "text/x-python",
   "name": "python",
   "nbconvert_exporter": "python",
   "pygments_lexer": "ipython3",
   "version": "3.5.3"
  }
 },
 "nbformat": 4,
 "nbformat_minor": 2
}
