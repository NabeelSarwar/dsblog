{
 "cells": [
  {
   "cell_type": "code",
   "execution_count": 1,
   "metadata": {
    "collapsed": false
   },
   "outputs": [],
   "source": [
    "import pandas as pd\n",
    "import numpy as np\n",
    "import requests\n",
    "import grequests\n",
    "import os.path"
   ]
  },
  {
   "cell_type": "code",
   "execution_count": 2,
   "metadata": {
    "collapsed": true
   },
   "outputs": [],
   "source": [
    "# auxiliary function for below\n",
    "def split(theList, n):\n",
    "    for i in range(0, len(theList), n):\n",
    "        yield theList[i:i + n]"
   ]
  },
  {
   "cell_type": "code",
   "execution_count": 3,
   "metadata": {
    "collapsed": true
   },
   "outputs": [],
   "source": [
    "host = \"https://api.stratz.com/api/v1/match\""
   ]
  },
  {
   "cell_type": "code",
   "execution_count": 4,
   "metadata": {
    "collapsed": false
   },
   "outputs": [],
   "source": [
    "params = {\"matchId\":[3304258209,3304204784], \n",
    "          \"include\": [\"Player\"],\n",
    "         \"gameMode\": [2, 22],\n",
    "         \"lobbyType\": [2, 7]}"
   ]
  },
  {
   "cell_type": "code",
   "execution_count": 5,
   "metadata": {
    "collapsed": false
   },
   "outputs": [],
   "source": [
    "x = requests.get(host, params = params)"
   ]
  },
  {
   "cell_type": "code",
   "execution_count": 12,
   "metadata": {
    "collapsed": false
   },
   "outputs": [
    {
     "data": {
      "text/plain": [
       "<Response [503]>"
      ]
     },
     "execution_count": 12,
     "metadata": {},
     "output_type": "execute_result"
    }
   ],
   "source": [
    "x"
   ]
  },
  {
   "cell_type": "code",
   "execution_count": null,
   "metadata": {
    "collapsed": false
   },
   "outputs": [],
   "source": [
    "host = \"https://api.stratz.com/api/v1/match/3304258209\"\n",
    "rs = (grequests.get(host),)\n",
    "x = grequests.map(rs)\n",
    "data = x[0].json()\n",
    "list(filter(lambda a: a not in testitems, testsequence))"
   ]
  },
  {
   "cell_type": "code",
   "execution_count": null,
   "metadata": {
    "collapsed": false
   },
   "outputs": [],
   "source": [
    "keys = data.keys()"
   ]
  },
  {
   "cell_type": "code",
   "execution_count": null,
   "metadata": {
    "collapsed": true
   },
   "outputs": [],
   "source": [
    "testsequence = [event['item'] for event in data['players'][0]['purchaseEvents']]\n",
    "testitems = [45, 42, 44]"
   ]
  },
  {
   "cell_type": "code",
   "execution_count": null,
   "metadata": {
    "collapsed": false
   },
   "outputs": [],
   "source": [
    "keys"
   ]
  },
  {
   "cell_type": "code",
   "execution_count": null,
   "metadata": {
    "collapsed": false
   },
   "outputs": [],
   "source": [
    "data['players'][0].keys()"
   ]
  },
  {
   "cell_type": "code",
   "execution_count": null,
   "metadata": {
    "collapsed": false
   },
   "outputs": [],
   "source": [
    "print(data['players'][0]['role'])\n",
    "print(data['players'][0]['lane'])\n",
    "print(data['players'][0]['hero'])\n",
    "print(data['players'][0]['purchaseEvents'])\n",
    "for player in data['players']:\n",
    "    print(player['slot'])"
   ]
  },
  {
   "cell_type": "markdown",
   "metadata": {},
   "source": [
    "**Need to get steamIDs for players by going through the matchIDs of high level games**"
   ]
  },
  {
   "cell_type": "code",
   "execution_count": null,
   "metadata": {
    "collapsed": true
   },
   "outputs": [],
   "source": [
    "def nextBatchOfMatches(idList):\n",
    "    queryParams = {\"matchId\":idList, \n",
    "          \"include\": [\"Player\"],\n",
    "         \"gameMode\": [2, 22],\n",
    "         \"lobbyType\": [2, 7]}\n",
    "    x = requests.get(host, params = queryParams)\n",
    "    x = x.json()\n",
    "    for entry in x['results']:\n",
    "        for player in entry['players']:\n",
    "            playerSet.add(player['steamId'])"
   ]
  },
  {
   "cell_type": "code",
   "execution_count": null,
   "metadata": {
    "collapsed": false
   },
   "outputs": [],
   "source": [
    "if os.path.exists('playerset.txt'):\n",
    "    playerSet = np.loadtxt('playerset.txt', dtype=np.int64)\n",
    "else:\n",
    "    playerSet = set()\n",
    "    allMatches = np.loadtxt('matchids.txt', dtype=np.int64)\n",
    "    allMatches = split(allMatches, 10)\n",
    "    for matches in allMatches:\n",
    "        nextBatchOfMatches(matches)\n",
    "    playerSet = list(playerSet)\n",
    "    np.savetxt('playerset.txt', playerSet, delimiter=',', fmt = \"%.0f\")"
   ]
  },
  {
   "cell_type": "markdown",
   "metadata": {},
   "source": [
    "With player set, we can obtain matches. For the players above, get the matches these players play and also categorize the players and heroes"
   ]
  },
  {
   "cell_type": "code",
   "execution_count": null,
   "metadata": {
    "collapsed": false
   },
   "outputs": [],
   "source": [
    "# 8 is jug and 74 is invoker and 106 is ember\n",
    "def playerMatchObtain(player, heroList = [8, 74, 106]):\n",
    "    host = \"https://api.stratz.com/api/v1/match\"\n",
    "    queryParams = {\"steamId\": player, \n",
    "                   \"heroId\": heroList,\n",
    "                   \"gameMode\": [2, 22],\n",
    "                   \"lobbyType\": [2, 7],\n",
    "                   \"gameVersion\": 79, \n",
    "                  \"take\": 100}\n",
    "    x = requests.get(host, params = queryParams)\n",
    "    x = x.json()\n",
    "    for entry in x['results']:\n",
    "        matchSet.add(entry['id'])"
   ]
  },
  {
   "cell_type": "code",
   "execution_count": null,
   "metadata": {
    "collapsed": false
   },
   "outputs": [],
   "source": [
    "matchSet = set()\n",
    "if os.path.exists('matchset.txt'):\n",
    "    matchSet = np.loadtxt('matchset.txt', dtype=np.int64)\n",
    "else:\n",
    "    allplayers = np.loadtxt('playerset.txt', dtype=np.int64)\n",
    "    for player in allplayers:\n",
    "        playerMatchObtain(player, heroList=[74])\n",
    "    matchSet = list(matchSet)\n",
    "    np.savetxt('matchset.txt', matchSet, delimiter=',', fmt = \"%.0f\")"
   ]
  },
  {
   "cell_type": "code",
   "execution_count": null,
   "metadata": {
    "collapsed": false
   },
   "outputs": [],
   "source": [
    "len(playerSet)"
   ]
  },
  {
   "cell_type": "code",
   "execution_count": null,
   "metadata": {
    "collapsed": false
   },
   "outputs": [],
   "source": [
    "len(matchSet)"
   ]
  },
  {
   "cell_type": "markdown",
   "metadata": {
    "collapsed": false
   },
   "source": [
    "** Time to Parse these Matches**\n",
    "Need to make sure to remove tps and wards from buy list as you can buy them at any time depending on the situation"
   ]
  },
  {
   "cell_type": "code",
   "execution_count": 8,
   "metadata": {
    "collapsed": false
   },
   "outputs": [],
   "source": [
    "prototypeDataframe = {\n",
    "    \"invokerItems\": [], \"invokerSideRadiant\": [], \n",
    "    \"invokerSideHero1\": [], \"invokerSideHero2\": [], \n",
    "    \"invokerSideHero3\": [], \"invokerSideHero4\": [],\n",
    "    \"otherSideHero1\": [], \"otherSideHero2\": [],\n",
    "    \"otherSideHero3\": [], \"otherSideHero4\": [],\n",
    "    \"otherSideHero5\": [], \n",
    "    \"invokerSideHero1Steam\": [], \"invokerSideHero2Steam\": [], \n",
    "    \"invokerSideHero3Steam\": [], \"invokerSideHero4Steam\": [],\n",
    "    \"otherSideHero1Steam\": [], \"otherSideHero2Steam\": [],\n",
    "    \"otherSideHero3Steam\": [], \"otherSideHero4Steam\": [],\n",
    "    \"otherSideHero5Steam\": [], \"matchId\": []\n",
    "}\n",
    "\n",
    "def analyzeMatchesForFeatures(matchList, heroesToTestItems = [8, 74, 106]):\n",
    "    hostInitial = \"https://api.stratz.com/api/v1/match/\"\n",
    "    rs = [grequests.get(hostInitial + str(match)) for match in matchList]\n",
    "    x = grequests.map(rs)\n",
    "    for matchUnparsed in x:\n",
    "        match = matchUnparsed.json()\n",
    "        protypeDataframe['matchId'].append(match['id'])\n",
    "        radiantHeroes = []\n",
    "        direHeroes = []\n",
    "        radiantSteams = []\n",
    "        direSteams = []\n",
    "        invokerSideRadiant = None\n",
    "        for player in match['players']:\n",
    "            # we have the invoker\n",
    "            if player['hero'] == 74:\n",
    "                invokerSideRadiant = player['slot'] < 5\n",
    "                invokerItems = [event['item'] for event in player['purchaseEvents']]\n",
    "            else:\n",
    "                if player['slot'] < 5:\n",
    "                    radiantHeroes.append(player['hero'])\n",
    "                    radiantSteams.append(player['steamId'])\n",
    "                else: \n",
    "                    direHeroes.append(player['hero'])\n",
    "                    direSteams.append(player['steamId'])\n",
    "        invokerWon = invokerSideRadiant == match['didRadiantWin']\n",
    "        if not invokerWon:\n",
    "            break\n",
    "        prototypeDataframe['matchId'].append(match['id'])\n",
    "        prototypeDataframe['invokerSideRadiant'].append(invokerSideRadiant)\n",
    "        prototypeDataframe['invokerItems'].append(invokerItems)\n",
    "        if invokerSideRadiant:\n",
    "            invokerSideHeroes = radiantHeroes\n",
    "            invokerSideSteams = radiantSteams\n",
    "            otherSideHeroes = direHeroes\n",
    "            otherSideSteams = direSteams\n",
    "        else:\n",
    "            invokerSideHeroes = direHeroes\n",
    "            invokerSideSteams = direSteams\n",
    "            otherSideHeroes = radiantHeroes\n",
    "            otherSideSteams = radiantSteams\n",
    "        for ix1 in range(5):\n",
    "            prototypeDataframe['invokerSideHero' + str(ix1+1)].append(invokerSideHeroes[ix1])\n",
    "            prototypeDataframe['otherSideHero' + str(ix1+1)].append(otherSideHeroes[ix1])\n",
    "            prototypeDataframe['invokerSideHero'+ str(ix1+1) + 'Steam'].append(invokerSideSteams[ix1])\n",
    "            prototypeDataframe['otherSideHero' + str(ix1+1) + 'Steam'].append(otherSideSteams[ix1])\n",
    "            \n",
    "def GetHeroHistory(steamid, heroid):\n",
    "    host = \"https://api.stratz.com/api/v1/match\"\n",
    "    queryParams = {\"steamId\": steamid, \n",
    "                   \"heroId\": [heroid],\n",
    "                   \"Player\": \"Single\"\n",
    "                   \"gameMode\": [2, 22],\n",
    "                   \"lobbyType\": [2, 7],\n",
    "                   \"gameVersion\": 79, \n",
    "                  \"take\": 100}\n",
    "    x = requests.get(host, params = params)\n",
    "    x = x.json()\n",
    "    features = {'kills': [], 'deaths': [], 'lastHits': [], 'gold': [], 'obs': [], 'sens': []}\n",
    "    for match in x['results']:\n",
    "        pass"
   ]
  },
  {
   "cell_type": "code",
   "execution_count": 10,
   "metadata": {
    "collapsed": false
   },
   "outputs": [
    {
     "ename": "NameError",
     "evalue": "name 'matchSet' is not defined",
     "output_type": "error",
     "traceback": [
      "\u001b[0;31m---------------------------------------------------------------------------\u001b[0m",
      "\u001b[0;31mNameError\u001b[0m                                 Traceback (most recent call last)",
      "\u001b[0;32m<ipython-input-10-b13966f9c573>\u001b[0m in \u001b[0;36m<module>\u001b[0;34m()\u001b[0m\n\u001b[0;32m----> 1\u001b[0;31m \u001b[0manalyzeMatchesForFeatures\u001b[0m\u001b[0;34m(\u001b[0m\u001b[0mmatchSet\u001b[0m\u001b[0;34m[\u001b[0m\u001b[0;34m:\u001b[0m\u001b[0;36m10\u001b[0m\u001b[0;34m]\u001b[0m\u001b[0;34m)\u001b[0m\u001b[0;34m\u001b[0m\u001b[0m\n\u001b[0m\u001b[1;32m      2\u001b[0m \u001b[0mprint\u001b[0m\u001b[0;34m(\u001b[0m\u001b[0mprototypeDataframe\u001b[0m\u001b[0;34m)\u001b[0m\u001b[0;34m\u001b[0m\u001b[0m\n",
      "\u001b[0;31mNameError\u001b[0m: name 'matchSet' is not defined"
     ]
    }
   ],
   "source": [
    "analyzeMatchesForFeatures(matchSet[:10])\n",
    "print(prototypeDataframe)\n",
    "invokerMatchFeatureSetPlus = pd.DataFrame(prototypeDataframe)\n",
    "if not os.path.exists('invokerMatchFeatureSetPlus.csv'):\n",
    "    invokerMatchFeatureSetPlus.to_csv('invokerMatchFeatureSetPlus.csv', index=False)"
   ]
  },
  {
   "cell_type": "code",
   "execution_count": null,
   "metadata": {
    "collapsed": false
   },
   "outputs": [],
   "source": [
    "for entry in x:\n",
    "    match = entry.json()\n",
    "    for player in match['players']\n",
    "    "
   ]
  }
 ],
 "metadata": {
  "kernelspec": {
   "display_name": "Python 3",
   "language": "python",
   "name": "python3"
  },
  "language_info": {
   "codemirror_mode": {
    "name": "ipython",
    "version": 3
   },
   "file_extension": ".py",
   "mimetype": "text/x-python",
   "name": "python",
   "nbconvert_exporter": "python",
   "pygments_lexer": "ipython3",
   "version": "3.5.2"
  }
 },
 "nbformat": 4,
 "nbformat_minor": 0
}
