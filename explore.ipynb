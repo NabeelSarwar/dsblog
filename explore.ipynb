{
 "cells": [
  {
   "cell_type": "code",
   "execution_count": 2,
   "metadata": {
    "collapsed": true
   },
   "outputs": [],
   "source": [
    "import numpy as np"
   ]
  },
  {
   "cell_type": "code",
   "execution_count": 76,
   "metadata": {
    "collapsed": false
   },
   "outputs": [],
   "source": [
    "import grequests"
   ]
  },
  {
   "cell_type": "code",
   "execution_count": 77,
   "metadata": {
    "collapsed": true
   },
   "outputs": [],
   "source": [
    "host = \"https://api.stratz.com/api/v1/match\""
   ]
  },
  {
   "cell_type": "code",
   "execution_count": 82,
   "metadata": {
    "collapsed": true
   },
   "outputs": [],
   "source": [
    "params = {\"matchId\":[3304258209,3304204784], \n",
    "          \"include\": [\"Player\"]\n",
    "         \"gameMode\": [],\n",
    "         \"lobbyType\": []}"
   ]
  },
  {
   "cell_type": "code",
   "execution_count": 83,
   "metadata": {
    "collapsed": true
   },
   "outputs": [],
   "source": [
    "rs = (grequests.get(host, params = params),)"
   ]
  },
  {
   "cell_type": "code",
   "execution_count": 84,
   "metadata": {
    "collapsed": false
   },
   "outputs": [],
   "source": [
    "x = grequests.map(rs)"
   ]
  },
  {
   "cell_type": "code",
   "execution_count": 85,
   "metadata": {
    "collapsed": false
   },
   "outputs": [
    {
     "data": {
      "text/plain": [
       "b'{\"total\":2,\"results\":[{\"id\":3304258209,\"lobbyType\":7,\"gameMode\":22,\"gameResult\":1,\"didRadiantWin\":true,\"firstBloodTime\":162,\"endDate\":1499660138,\"parsedDate\":1499660887,\"rank\":2680,\"tier\":11,\"bracket\":4,\"duration\":1976,\"challenge\":79,\"radiantKills\":38,\"direKills\":22,\"players\":[{\"slot\":0,\"hero\":92,\"steamId\":239971449,\"profileUrl\":\"http://steamcommunity.com/profiles/76561198200237177/\",\"avatar\":\"https://steamcdn-a.akamaihd.net/steamcommunity/public/images/avatars/65/657e96497fffece854f1a5b8cf0d9a766e81ea8e.jpg\",\"avatarMedium\":\"https://steamcdn-a.akamaihd.net/steamcommunity/public/images/avatars/65/657e96497fffece854f1a5b8cf0d9a766e81ea8e_medium.jpg\",\"avatarFull\":\"https://steamcdn-a.akamaihd.net/steamcommunity/public/images/avatars/65/657e96497fffece854f1a5b8cf0d9a766e81ea8e_full.jpg\",\"soloRank\":2872,\"partyRank\":2590,\"name\":\"575\",\"numKills\":3,\"numDeaths\":8,\"numAssists\":8,\"leaverStatus\":0,\"numLastHits\":39,\"numDenies\":2,\"goldPerMinute\":352,\"expPerMinute\":283,\"goldSpent\":8990,\"heroDamage\":5458,\"imp\":53,\"towerDamage\":3837,\"heroHealing\":0,\"level\":14,\"item0\":46,\"item1\":65,\"item2\":214,\"item3\":182,\"item4\":108,\"item5\":42,\"lane\":1,\"role\":1,\"award\":0,\"isRadiant\":true},{\"slot\":1,\"hero\":5,\"steamId\":157317331,\"profileUrl\":\"http://steamcommunity.com/profiles/76561198117583059/\",\"avatar\":\"https://steamcdn-a.akamaihd.net/steamcommunity/public/images/avatars/65/65d2685d3bb39c81b34db4b2f41f56cc94f3e018.jpg\",\"avatarMedium\":\"https://steamcdn-a.akamaihd.net/steamcommunity/public/images/avatars/65/65d2685d3bb39c81b34db4b2f41f56cc94f3e018_medium.jpg\",\"avatarFull\":\"https://steamcdn-a.akamaihd.net/steamcommunity/public/images/avatars/65/65d2685d3bb39c81b34db4b2f41f56cc94f3e018_full.jpg\",\"soloRank\":2401,\"partyRank\":2272,\"name\":\"Mr. Hankey the Christmas Poo\",\"numKills\":0,\"numDeaths\":8,\"numAssists\":14,\"leaverStatus\":0,\"numLastHits\":23,\"numDenies\":0,\"goldPerMinute\":260,\"expPerMinute\":262,\"goldSpent\":6275,\"heroDamage\":5613,\"imp\":50,\"towerDamage\":795,\"heroHealing\":0,\"level\":13,\"item0\":46,\"item1\":214,\"item3\":185,\"item4\":40,\"item5\":36,\"partyId\":1,\"lane\":1,\"role\":2,\"award\":0,\"isRadiant\":true},{\"slot\":2,\"hero\":106,\"steamId\":54325937,\"profileUrl\":\"http://steamcommunity.com/profiles/76561198014591665/\",\"avatar\":\"https://steamcdn-a.akamaihd.net/steamcommunity/public/images/avatars/30/30c69bad137f9509bc793d8acdb385e672afe77f.jpg\",\"avatarMedium\":\"https://steamcdn-a.akamaihd.net/steamcommunity/public/images/avatars/30/30c69bad137f9509bc793d8acdb385e672afe77f_medium.jpg\",\"avatarFull\":\"https://steamcdn-a.akamaihd.net/steamcommunity/public/images/avatars/30/30c69bad137f9509bc793d8acdb385e672afe77f_full.jpg\",\"soloRank\":2600,\"partyRank\":2272,\"name\":\"Papa Arima\",\"numKills\":18,\"numDeaths\":1,\"numAssists\":13,\"leaverStatus\":0,\"numLastHits\":144,\"numDenies\":17,\"goldPerMinute\":582,\"expPerMinute\":696,\"goldSpent\":15275,\"heroDamage\":29760,\"imp\":163,\"towerDamage\":1563,\"heroHealing\":0,\"level\":23,\"item0\":235,\"item1\":36,\"item2\":48,\"item3\":41,\"item4\":1,\"item5\":190,\"partyId\":1,\"lane\":2,\"role\":0,\"award\":1,\"isRadiant\":true},{\"slot\":3,\"hero\":2,\"steamId\":102015930,\"profileUrl\":\"http://steamcommunity.com/id/JinDarC/\",\"avatar\":\"https://steamcdn-a.akamaihd.net/steamcommunity/public/images/avatars/e5/e51b25dbf14a68534573de187c79e2d9c51c5009.jpg\",\"avatarMedium\":\"https://steamcdn-a.akamaihd.net/steamcommunity/public/images/avatars/e5/e51b25dbf14a68534573de187c79e2d9c51c5009_medium.jpg\",\"avatarFull\":\"https://steamcdn-a.akamaihd.net/steamcommunity/public/images/avatars/e5/e51b25dbf14a68534573de187c79e2d9c51c5009_full.jpg\",\"soloRank\":2859,\"partyRank\":1994,\"name\":\"jindarc\",\"numKills\":13,\"numDeaths\":6,\"numAssists\":13,\"leaverStatus\":0,\"numLastHits\":100,\"numDenies\":3,\"goldPerMinute\":455,\"expPerMinute\":508,\"goldSpent\":13065,\"heroDamage\":19298,\"imp\":104,\"towerDamage\":1902,\"heroHealing\":0,\"level\":19,\"item0\":1,\"item1\":53,\"item2\":214,\"item3\":127,\"item4\":46,\"item5\":242,\"lane\":3,\"role\":0,\"award\":2,\"isRadiant\":true},{\"slot\":4,\"hero\":1,\"steamId\":147526853,\"profileUrl\":\"http://steamcommunity.com/profiles/76561198107792581/\",\"avatar\":\"https://steamcdn-a.akamaihd.net/steamcommunity/public/images/avatars/af/afb2c9f25d666dd65a3249349edaa0769d8ce596.jpg\",\"avatarMedium\":\"https://steamcdn-a.akamaihd.net/steamcommunity/public/images/avatars/af/afb2c9f25d666dd65a3249349edaa0769d8ce596_medium.jpg\",\"avatarFull\":\"https://steamcdn-a.akamaihd.net/steamcommunity/public/images/avatars/af/afb2c9f25d666dd65a3249349edaa0769d8ce596_full.jpg\",\"soloRank\":2851,\"partyRank\":3277,\"name\":\"Hugh Mungus\",\"numKills\":4,\"numDeaths\":2,\"numAssists\":9,\"leaverStatus\":0,\"numLastHits\":265,\"numDenies\":3,\"goldPerMinute\":608,\"expPerMinute\":638,\"goldSpent\":14595,\"heroDamage\":6833,\"imp\":80,\"towerDamage\":6405,\"heroHealing\":0,\"level\":22,\"item0\":147,\"item1\":145,\"item2\":63,\"item3\":71,\"item4\":143,\"lane\":1,\"role\":0,\"award\":0,\"isRadiant\":true},{\"slot\":128,\"hero\":49,\"steamId\":134920928,\"profileUrl\":\"http://steamcommunity.com/id/sexpum2/\",\"avatar\":\"https://steamcdn-a.akamaihd.net/steamcommunity/public/images/avatars/28/2826ab5b6243226f76bb56f0a35d28d851c260b1.jpg\",\"avatarMedium\":\"https://steamcdn-a.akamaihd.net/steamcommunity/public/images/avatars/28/2826ab5b6243226f76bb56f0a35d28d851c260b1_medium.jpg\",\"avatarFull\":\"https://steamcdn-a.akamaihd.net/steamcommunity/public/images/avatars/28/2826ab5b6243226f76bb56f0a35d28d851c260b1_full.jpg\",\"soloRank\":2821,\"partyRank\":1763,\"name\":\"mpivgki\",\"numKills\":5,\"numDeaths\":4,\"numAssists\":4,\"leaverStatus\":0,\"numLastHits\":110,\"numDenies\":3,\"goldPerMinute\":289,\"expPerMinute\":279,\"goldSpent\":11305,\"heroDamage\":4987,\"imp\":57,\"towerDamage\":735,\"heroHealing\":0,\"level\":14,\"item0\":152,\"item1\":29,\"item2\":46,\"lane\":3,\"role\":0,\"award\":0,\"isRadiant\":false},{\"slot\":129,\"hero\":9,\"steamId\":116353420,\"profileUrl\":\"http://steamcommunity.com/profiles/76561198076619148/\",\"avatar\":\"https://steamcdn-a.akamaihd.net/steamcommunity/public/images/avatars/6a/6adef30d4902090156e3f7ac3ef1b1db9e85fb9c.jpg\",\"avatarMedium\":\"https://steamcdn-a.akamaihd.net/steamcommunity/public/images/avatars/6a/6adef30d4902090156e3f7ac3ef1b1db9e85fb9c_medium.jpg\",\"avatarFull\":\"https://steamcdn-a.akamaihd.net/steamcommunity/public/images/avatars/6a/6adef30d4902090156e3f7ac3ef1b1db9e85fb9c_full.jpg\",\"soloRank\":2777,\"partyRank\":2141,\"name\":\"\\xe2\\x80\\xa0Addictive Potion\\xe2\\x80\\xa0\",\"numKills\":3,\"numDeaths\":6,\"numAssists\":17,\"leaverStatus\":0,\"numLastHits\":64,\"numDenies\":1,\"goldPerMinute\":264,\"expPerMinute\":314,\"goldSpent\":7960,\"heroDamage\":12307,\"imp\":88,\"towerDamage\":448,\"heroHealing\":0,\"level\":15,\"item0\":63,\"item1\":212,\"item2\":166,\"item4\":240,\"item5\":3,\"lane\":3,\"role\":0,\"award\":0,\"isRadiant\":false},{\"slot\":130,\"hero\":14,\"steamId\":202003021,\"profileUrl\":\"http://steamcommunity.com/profiles/76561198162268749/\",\"avatar\":\"https://steamcdn-a.akamaihd.net/steamcommunity/public/images/avatars/d4/d4390e8811f079e6a0168afd4d75e49508458f7a.jpg\",\"avatarMedium\":\"https://steamcdn-a.akamaihd.net/steamcommunity/public/images/avatars/d4/d4390e8811f079e6a0168afd4d75e49508458f7a_medium.jpg\",\"avatarFull\":\"https://steamcdn-a.akamaihd.net/steamcommunity/public/images/avatars/d4/d4390e8811f079e6a0168afd4d75e49508458f7a_full.jpg\",\"soloRank\":2451,\"partyRank\":2616,\"name\":\"ManyariTO\",\"numKills\":5,\"numDeaths\":10,\"numAssists\":5,\"leaverStatus\":1,\"numLastHits\":60,\"numDenies\":0,\"goldPerMinute\":299,\"expPerMinute\":393,\"goldSpent\":8655,\"heroDamage\":10033,\"imp\":61,\"towerDamage\":0,\"heroHealing\":0,\"level\":17,\"item1\":41,\"item2\":206,\"item3\":36,\"item4\":214,\"item5\":232,\"partyId\":6,\"lane\":2,\"role\":0,\"award\":0,\"isRadiant\":false},{\"slot\":131,\"hero\":91,\"steamId\":204857187,\"profileUrl\":\"http://steamcommunity.com/profiles/76561198165122915/\",\"avatar\":\"https://steamcdn-a.akamaihd.net/steamcommunity/public/images/avatars/7f/7f876484c05f9e3b10617a863af6a88a7c0b1668.jpg\",\"avatarMedium\":\"https://steamcdn-a.akamaihd.net/steamcommunity/public/images/avatars/7f/7f876484c05f9e3b10617a863af6a88a7c0b1668_medium.jpg\",\"avatarFull\":\"https://steamcdn-a.akamaihd.net/steamcommunity/public/images/avatars/7f/7f876484c05f9e3b10617a863af6a88a7c0b1668_full.jpg\",\"soloRank\":3577,\"partyRank\":2584,\"name\":\"Qwerty #Kaiki\",\"numKills\":1,\"numDeaths\":9,\"numAssists\":14,\"leaverStatus\":0,\"numLastHits\":9,\"numDenies\":0,\"goldPerMinute\":218,\"expPerMinute\":244,\"goldSpent\":6550,\"heroDamage\":5436,\"imp\":93,\"towerDamage\":119,\"heroHealing\":1969,\"level\":13,\"item0\":92,\"item1\":180,\"item2\":41,\"item3\":44,\"item4\":42,\"item5\":79,\"partyId\":6,\"lane\":1,\"role\":1,\"award\":3,\"isRadiant\":false},{\"slot\":132,\"hero\":44,\"steamId\":155064323,\"profileUrl\":\"http://steamcommunity.com/profiles/76561198115330051/\",\"avatar\":\"https://steamcdn-a.akamaihd.net/steamcommunity/public/images/avatars/35/354ab8244825ad7b94006996606e830e526cb6cb.jpg\",\"avatarMedium\":\"https://steamcdn-a.akamaihd.net/steamcommunity/public/images/avatars/35/354ab8244825ad7b94006996606e830e526cb6cb_medium.jpg\",\"avatarFull\":\"https://steamcdn-a.akamaihd.net/steamcommunity/public/images/avatars/35/354ab8244825ad7b94006996606e830e526cb6cb_full.jpg\",\"soloRank\":2882,\"partyRank\":2525,\"name\":\"R@DL\",\"numKills\":8,\"numDeaths\":9,\"numAssists\":2,\"leaverStatus\":0,\"numLastHits\":145,\"numDenies\":8,\"goldPerMinute\":408,\"expPerMinute\":467,\"goldSpent\":11510,\"heroDamage\":13693,\"imp\":61,\"towerDamage\":164,\"heroHealing\":0,\"level\":18,\"item0\":7,\"item1\":50,\"item2\":116,\"item3\":168,\"item4\":46,\"item5\":71,\"lane\":1,\"role\":0,\"award\":0,\"isRadiant\":false}],\"isStats\":false,\"gameVersionId\":0,\"replaySalt\":707958777,\"avgImp\":81},{\"id\":3304204784,\"lobbyType\":7,\"gameMode\":22,\"gameResult\":0,\"didRadiantWin\":false,\"firstBloodTime\":226,\"endDate\":1499656956,\"parsedDate\":1499657682,\"rank\":2691,\"tier\":11,\"bracket\":4,\"duration\":2080,\"challenge\":71,\"radiantKills\":17,\"direKills\":35,\"players\":[{\"slot\":0,\"hero\":45,\"steamId\":159005338,\"profileUrl\":\"http://steamcommunity.com/id/futurenurse/\",\"avatar\":\"https://steamcdn-a.akamaihd.net/steamcommunity/public/images/avatars/86/866ea9da9f32232842da46bb6a5c304b921e6746.jpg\",\"avatarMedium\":\"https://steamcdn-a.akamaihd.net/steamcommunity/public/images/avatars/86/866ea9da9f32232842da46bb6a5c304b921e6746_medium.jpg\",\"avatarFull\":\"https://steamcdn-a.akamaihd.net/steamcommunity/public/images/avatars/86/866ea9da9f32232842da46bb6a5c304b921e6746_full.jpg\",\"soloRank\":2426,\"partyRank\":2500,\"name\":\"NayNay da Whip God\",\"numKills\":3,\"numDeaths\":6,\"numAssists\":4,\"leaverStatus\":0,\"numLastHits\":100,\"numDenies\":8,\"goldPerMinute\":288,\"expPerMinute\":329,\"goldSpent\":9480,\"heroDamage\":9500,\"imp\":64,\"towerDamage\":1991,\"heroHealing\":0,\"level\":16,\"item0\":180,\"item1\":40,\"item2\":108,\"item3\":244,\"item4\":57,\"item5\":59,\"partyId\":0,\"lane\":1,\"role\":0,\"award\":0,\"isRadiant\":true},{\"slot\":1,\"hero\":39,\"steamId\":26117779,\"profileUrl\":\"http://steamcommunity.com/id/inFamous1997/\",\"avatar\":\"https://steamcdn-a.akamaihd.net/steamcommunity/public/images/avatars/b4/b46f15aa48aae78ca281899d616b020868211e0f.jpg\",\"avatarMedium\":\"https://steamcdn-a.akamaihd.net/steamcommunity/public/images/avatars/b4/b46f15aa48aae78ca281899d616b020868211e0f_medium.jpg\",\"avatarFull\":\"https://steamcdn-a.akamaihd.net/steamcommunity/public/images/avatars/b4/b46f15aa48aae78ca281899d616b020868211e0f_full.jpg\",\"soloRank\":3931,\"partyRank\":2919,\"name\":\"InFamous scarlxrd\",\"numKills\":8,\"numDeaths\":8,\"numAssists\":6,\"leaverStatus\":0,\"numLastHits\":190,\"numDenies\":13,\"goldPerMinute\":428,\"expPerMinute\":439,\"goldSpent\":10430,\"heroDamage\":22008,\"imp\":84,\"towerDamage\":311,\"heroHealing\":0,\"level\":18,\"item0\":63,\"item1\":41,\"item2\":98,\"item3\":100,\"item5\":36,\"partyId\":0,\"lane\":2,\"role\":0,\"award\":0,\"isRadiant\":true},{\"slot\":2,\"hero\":2,\"steamId\":3150800,\"profileUrl\":\"http://steamcommunity.com/profiles/76561197963416528/\",\"avatar\":\"https://steamcdn-a.akamaihd.net/steamcommunity/public/images/avatars/d2/d244620922b6a9c9ead4cfd899b4684a0b5eb5b3.jpg\",\"avatarMedium\":\"https://steamcdn-a.akamaihd.net/steamcommunity/public/images/avatars/d2/d244620922b6a9c9ead4cfd899b4684a0b5eb5b3_medium.jpg\",\"avatarFull\":\"https://steamcdn-a.akamaihd.net/steamcommunity/public/images/avatars/d2/d244620922b6a9c9ead4cfd899b4684a0b5eb5b3_full.jpg\",\"soloRank\":2309,\"partyRank\":2342,\"name\":\"9 PERUVIANS AND ME\",\"numKills\":3,\"numDeaths\":7,\"numAssists\":7,\"leaverStatus\":0,\"numLastHits\":99,\"numDenies\":1,\"goldPerMinute\":305,\"expPerMinute\":497,\"goldSpent\":7000,\"heroDamage\":13855,\"imp\":73,\"towerDamage\":0,\"heroHealing\":0,\"level\":20,\"item0\":1,\"item1\":127,\"item2\":182,\"item3\":56,\"item4\":46,\"item5\":214,\"partyId\":0,\"lane\":0,\"role\":0,\"award\":0,\"isRadiant\":true},{\"slot\":3,\"hero\":26,\"steamId\":338941722,\"profileUrl\":\"http://steamcommunity.com/profiles/76561198299207450/\",\"avatar\":\"https://steamcdn-a.akamaihd.net/steamcommunity/public/images/avatars/f8/f8a51e810ea39331c5ad487c23f5bc483822c905.jpg\",\"avatarMedium\":\"https://steamcdn-a.akamaihd.net/steamcommunity/public/images/avatars/f8/f8a51e810ea39331c5ad487c23f5bc483822c905_medium.jpg\",\"avatarFull\":\"https://steamcdn-a.akamaihd.net/steamcommunity/public/images/avatars/f8/f8a51e810ea39331c5ad487c23f5bc483822c905_full.jpg\",\"soloRank\":3506,\"partyRank\":2783,\"name\":\"Lamborgini\",\"numKills\":2,\"numDeaths\":7,\"numAssists\":5,\"leaverStatus\":0,\"numLastHits\":31,\"numDenies\":1,\"goldPerMinute\":179,\"expPerMinute\":252,\"goldSpent\":5950,\"heroDamage\":6156,\"imp\":50,\"towerDamage\":0,\"heroHealing\":0,\"level\":13,\"item0\":63,\"item1\":102,\"item2\":36,\"item3\":46,\"item5\":42,\"partyId\":1,\"lane\":3,\"role\":1,\"award\":0,\"isRadiant\":true},{\"slot\":4,\"hero\":82,\"steamId\":199086281,\"profileUrl\":\"http://steamcommunity.com/id/DiegoMosterCat/\",\"avatar\":\"https://steamcdn-a.akamaihd.net/steamcommunity/public/images/avatars/18/182771cad6b23e78fa4a1dce98d0485711549f98.jpg\",\"avatarMedium\":\"https://steamcdn-a.akamaihd.net/steamcommunity/public/images/avatars/18/182771cad6b23e78fa4a1dce98d0485711549f98_medium.jpg\",\"avatarFull\":\"https://steamcdn-a.akamaihd.net/steamcommunity/public/images/avatars/18/182771cad6b23e78fa4a1dce98d0485711549f98_full.jpg\",\"soloRank\":1405,\"partyRank\":3071,\"name\":\"\\xe2\\x9c\\x9e [OT] M\\xc3\\xaest\\xc4\\x81k\\xc4\\x99 \\xe3\\x83\\x84\",\"numKills\":1,\"numDeaths\":8,\"numAssists\":3,\"leaverStatus\":0,\"numLastHits\":123,\"numDenies\":1,\"goldPerMinute\":246,\"expPerMinute\":333,\"goldSpent\":7450,\"heroDamage\":3160,\"imp\":30,\"towerDamage\":0,\"heroHealing\":0,\"level\":16,\"item0\":1,\"item1\":60,\"item2\":48,\"item3\":239,\"item4\":21,\"partyId\":1,\"lane\":3,\"role\":0,\"award\":0,\"isRadiant\":true},{\"slot\":128,\"hero\":63,\"steamId\":115576355,\"profileUrl\":\"http://steamcommunity.com/profiles/76561198075842083/\",\"avatar\":\"https://steamcdn-a.akamaihd.net/steamcommunity/public/images/avatars/dc/dc73463b2bf2394df395994be55c10085884863a.jpg\",\"avatarMedium\":\"https://steamcdn-a.akamaihd.net/steamcommunity/public/images/avatars/dc/dc73463b2bf2394df395994be55c10085884863a_medium.jpg\",\"avatarFull\":\"https://steamcdn-a.akamaihd.net/steamcommunity/public/images/avatars/dc/dc73463b2bf2394df395994be55c10085884863a_full.jpg\",\"soloRank\":1617,\"partyRank\":2692,\"name\":\"skeebike\",\"numKills\":8,\"numDeaths\":3,\"numAssists\":16,\"leaverStatus\":0,\"numLastHits\":158,\"numDenies\":14,\"goldPerMinute\":495,\"expPerMinute\":626,\"goldSpent\":13280,\"heroDamage\":14404,\"imp\":108,\"towerDamage\":6026,\"heroHealing\":0,\"level\":22,\"item0\":212,\"item1\":63,\"item2\":168,\"item3\":123,\"item4\":237,\"item5\":149,\"partyId\":2,\"lane\":3,\"role\":0,\"award\":2,\"isRadiant\":false},{\"slot\":129,\"hero\":18,\"steamId\":98538845,\"profileUrl\":\"http://steamcommunity.com/profiles/76561198058804573/\",\"avatar\":\"https://steamcdn-a.akamaihd.net/steamcommunity/public/images/avatars/0e/0e1cf507ff0bb69b779b342ac0dd56e76551e25c.jpg\",\"avatarMedium\":\"https://steamcdn-a.akamaihd.net/steamcommunity/public/images/avatars/0e/0e1cf507ff0bb69b779b342ac0dd56e76551e25c_medium.jpg\",\"avatarFull\":\"https://steamcdn-a.akamaihd.net/steamcommunity/public/images/avatars/0e/0e1cf507ff0bb69b779b342ac0dd56e76551e25c_full.jpg\",\"soloRank\":3224,\"partyRank\":3099,\"name\":\"Dirk Diddler\",\"numKills\":10,\"numDeaths\":5,\"numAssists\":16,\"leaverStatus\":0,\"numLastHits\":194,\"numDenies\":8,\"goldPerMinute\":536,\"expPerMinute\":588,\"goldSpent\":16050,\"heroDamage\":17466,\"imp\":85,\"towerDamage\":4404,\"heroHealing\":888,\"level\":22,\"item0\":116,\"item1\":81,\"item2\":1,\"item3\":63,\"item4\":252,\"partyId\":2,\"lane\":1,\"role\":0,\"award\":0,\"isRadiant\":false},{\"slot\":130,\"hero\":112,\"steamId\":133885785,\"profileUrl\":\"http://steamcommunity.com/id/1145411454/\",\"avatar\":\"https://steamcdn-a.akamaihd.net/steamcommunity/public/images/avatars/2d/2d89a9131fd9fd5320eaefe8256e34461634ad18.jpg\",\"avatarMedium\":\"https://steamcdn-a.akamaihd.net/steamcommunity/public/images/avatars/2d/2d89a9131fd9fd5320eaefe8256e34461634ad18_medium.jpg\",\"avatarFull\":\"https://steamcdn-a.akamaihd.net/steamcommunity/public/images/avatars/2d/2d89a9131fd9fd5320eaefe8256e34461634ad18_full.jpg\",\"soloRank\":2796,\"partyRank\":2950,\"name\":\"Ryan Lochte\\'s Armed robber\",\"numKills\":4,\"numDeaths\":7,\"numAssists\":14,\"leaverStatus\":0,\"numLastHits\":60,\"numDenies\":2,\"goldPerMinute\":338,\"expPerMinute\":393,\"goldSpent\":6645,\"heroDamage\":6589,\"imp\":61,\"towerDamage\":965,\"heroHealing\":0,\"level\":17,\"item0\":232,\"item1\":46,\"item2\":180,\"item3\":188,\"item4\":42,\"item5\":69,\"partyId\":2,\"lane\":3,\"role\":1,\"award\":0,\"isRadiant\":false},{\"slot\":131,\"hero\":5,\"steamId\":157317331,\"profileUrl\":\"http://steamcommunity.com/profiles/76561198117583059/\",\"avatar\":\"https://steamcdn-a.akamaihd.net/steamcommunity/public/images/avatars/65/65d2685d3bb39c81b34db4b2f41f56cc94f3e018.jpg\",\"avatarMedium\":\"https://steamcdn-a.akamaihd.net/steamcommunity/public/images/avatars/65/65d2685d3bb39c81b34db4b2f41f56cc94f3e018_medium.jpg\",\"avatarFull\":\"https://steamcdn-a.akamaihd.net/steamcommunity/public/images/avatars/65/65d2685d3bb39c81b34db4b2f41f56cc94f3e018_full.jpg\",\"soloRank\":2401,\"partyRank\":2252,\"name\":\"Mr. Hankey the Christmas Poo\",\"numKills\":4,\"numDeaths\":4,\"numAssists\":12,\"leaverStatus\":0,\"numLastHits\":13,\"numDenies\":3,\"goldPerMinute\":288,\"expPerMinute\":317,\"goldSpent\":6255,\"heroDamage\":9140,\"imp\":73,\"towerDamage\":78,\"heroHealing\":0,\"level\":15,\"item0\":46,\"item1\":40,\"item2\":214,\"item3\":254,\"item4\":244,\"item5\":36,\"partyId\":3,\"lane\":1,\"role\":2,\"award\":3,\"isRadiant\":false},{\"slot\":132,\"hero\":74,\"steamId\":54325937,\"profileUrl\":\"http://steamcommunity.com/profiles/76561198014591665/\",\"avatar\":\"https://steamcdn-a.akamaihd.net/steamcommunity/public/images/avatars/30/30c69bad137f9509bc793d8acdb385e672afe77f.jpg\",\"avatarMedium\":\"https://steamcdn-a.akamaihd.net/steamcommunity/public/images/avatars/30/30c69bad137f9509bc793d8acdb385e672afe77f_medium.jpg\",\"avatarFull\":\"https://steamcdn-a.akamaihd.net/steamcommunity/public/images/avatars/30/30c69bad137f9509bc793d8acdb385e672afe77f_full.jpg\",\"soloRank\":2600,\"partyRank\":2252,\"name\":\"Papa Arima\",\"numKills\":9,\"numDeaths\":0,\"numAssists\":9,\"leaverStatus\":0,\"numLastHits\":246,\"numDenies\":26,\"goldPerMinute\":645,\"expPerMinute\":739,\"goldSpent\":14825,\"heroDamage\":23353,\"imp\":128,\"towerDamage\":9031,\"heroHealing\":0,\"level\":24,\"item0\":77,\"item1\":48,\"item2\":123,\"item3\":65,\"item4\":108,\"partyId\":3,\"lane\":2,\"role\":0,\"award\":1,\"isRadiant\":false}],\"isStats\":true,\"gameVersionId\":0,\"replaySalt\":118279137,\"avgImp\":75}]}'"
      ]
     },
     "execution_count": 85,
     "metadata": {},
     "output_type": "execute_result"
    }
   ],
   "source": [
    "x[0].content"
   ]
  },
  {
   "cell_type": "code",
   "execution_count": 104,
   "metadata": {
    "collapsed": true
   },
   "outputs": [],
   "source": [
    "host = \"https://api.stratz.com/api/v1/match/3304258209\"\n",
    "rs = (grequests.get(host),)\n",
    "x = grequests.map(rs)\n",
    "data = x[0].json()"
   ]
  },
  {
   "cell_type": "code",
   "execution_count": 105,
   "metadata": {
    "collapsed": false
   },
   "outputs": [],
   "source": [
    "keys = data.keys()"
   ]
  },
  {
   "cell_type": "code",
   "execution_count": 106,
   "metadata": {
    "collapsed": false
   },
   "outputs": [
    {
     "data": {
      "text/plain": [
       "dict_keys(['players', 'lobbyType', 'regionId', 'buildingEvents', 'tier', 'didRadiantWin', 'id', 'courierEvents', 'bracket', 'radiantKills', 'gameVersionId', 'roshanEvents', 'isStats', 'firstBloodTime', 'gameResult', 'replaySalt', 'towerDeathEvents', 'avgImp', 'challenge', 'runeEvents', 'direKills', 'duration', 'rank', 'parsedDate', 'wardEvents', 'endDate', 'gameMode'])"
      ]
     },
     "execution_count": 106,
     "metadata": {},
     "output_type": "execute_result"
    }
   ],
   "source": [
    "keys"
   ]
  },
  {
   "cell_type": "code",
   "execution_count": 107,
   "metadata": {
    "collapsed": false
   },
   "outputs": [
    {
     "data": {
      "text/plain": [
       "dict_keys(['numLastHits', 'playerUpdateAttributeEvents', 'towerDamageEvents', 'playerUpdateBattleEvents', 'heroTimeDetail', 'soloRank', 'lane', 'towerDamage', 'playerUpdateLevelEvents', 'partyRank', 'slot', 'purchaseEvents', 'assistEvents', 'profileUrl', 'heroDamage', 'numDeaths', 'name', 'goldSpent', 'leaverStatus', 'goldPerMinute', 'numDenies', 'heroHealing', 'item4', 'goldEvents', 'role', 'expPerMinute', 'abilityUsedEvents', 'csEvents', 'playerUpdateGoldEvents', 'abilityActiveLists', 'item3', 'healEvents', 'isRadiant', 'playerUpdatePositionEvents', 'abilityLearnEvents', 'level', 'item5', 'item0', 'item1', 'numKills', 'award', 'avatar', 'avatarMedium', 'deathEvents', 'item2', 'killEvents', 'avatarFull', 'numAssists', 'playerUpdateHealthEvents', 'inventoryEvent', 'imp', 'experienceEvents', 'hero', 'steamId', 'heroDamageEvents', 'buyBackEvents'])"
      ]
     },
     "execution_count": 107,
     "metadata": {},
     "output_type": "execute_result"
    }
   ],
   "source": [
    "data['players'][0].keys()"
   ]
  },
  {
   "cell_type": "code",
   "execution_count": 123,
   "metadata": {
    "collapsed": false
   },
   "outputs": [
    {
     "name": "stdout",
     "output_type": "stream",
     "text": [
      "1\n",
      "92\n",
      "[{'item': 188, 'time': -89}, {'item': 43, 'time': -89}, {'item': 29, 'time': -89}, {'item': 44, 'time': -89}, {'item': 38, 'time': -89}, {'item': 46, 'time': -85}, {'item': 84, 'time': 187}, {'item': 42, 'time': 193}, {'item': 42, 'time': 236}, {'item': 42, 'time': 384}, {'item': 244, 'time': 389}, {'item': 27, 'time': 389}, {'item': 27, 'time': 432}, {'item': 46, 'time': 509}, {'item': 42, 'time': 528}, {'item': 46, 'time': 603}, {'item': 46, 'time': 719}, {'item': 42, 'time': 720}, {'item': 25, 'time': 809}, {'item': 182, 'time': 811}, {'item': 42, 'time': 816}, {'item': 46, 'time': 882}, {'item': 46, 'time': 1059}, {'item': 64, 'time': 1264}, {'item': 46, 'time': 1277}, {'item': 46, 'time': 1277}, {'item': 46, 'time': 1533}, {'item': 46, 'time': 1533}, {'item': 23, 'time': 1758}, {'item': 21, 'time': 1758}, {'item': 22, 'time': 1758}, {'item': 60, 'time': 1760}, {'item': 42, 'time': 1919}, {'item': 42, 'time': 1919}, {'item': 42, 'time': 1919}, {'item': 42, 'time': 1919}]\n"
     ]
    }
   ],
   "source": [
    "print(data['players'][0]['role'])\n",
    "print(data['players'][0]['hero'])\n",
    "print(data['players'][0]['purchaseEvents'])"
   ]
  },
  {
   "cell_type": "code",
   "execution_count": null,
   "metadata": {
    "collapsed": true
   },
   "outputs": [],
   "source": []
  }
 ],
 "metadata": {
  "kernelspec": {
   "display_name": "Python 3",
   "language": "python",
   "name": "python3"
  },
  "language_info": {
   "codemirror_mode": {
    "name": "ipython",
    "version": 3
   },
   "file_extension": ".py",
   "mimetype": "text/x-python",
   "name": "python",
   "nbconvert_exporter": "python",
   "pygments_lexer": "ipython3",
   "version": "3.5.3"
  }
 },
 "nbformat": 4,
 "nbformat_minor": 0
}
