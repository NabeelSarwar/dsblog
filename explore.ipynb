{
 "cells": [
  {
   "cell_type": "code",
   "execution_count": 1,
   "metadata": {
    "collapsed": false
   },
   "outputs": [],
   "source": [
    "import pandas as pd\n",
    "import numpy as np\n",
    "import requests\n",
    "import grequests\n",
    "import os.path"
   ]
  },
  {
   "cell_type": "code",
   "execution_count": 2,
   "metadata": {
    "collapsed": true
   },
   "outputs": [],
   "source": [
    "# auxiliary function for below\n",
    "def split(theList, n):\n",
    "    for i in range(0, len(theList), n):\n",
    "        yield theList[i:i + n]"
   ]
  },
  {
   "cell_type": "code",
   "execution_count": 3,
   "metadata": {
    "collapsed": true
   },
   "outputs": [],
   "source": [
    "host = \"https://api.stratz.com/api/v1/match\""
   ]
  },
  {
   "cell_type": "code",
   "execution_count": 5,
   "metadata": {
    "collapsed": false
   },
   "outputs": [],
   "source": [
    "params = {\"matchId\":[3304258209,3304204784], \n",
    "          \"include\": [\"Player\"],\n",
    "         \"gameMode\": [2, 22],\n",
    "         \"lobbyType\": [2, 7]}"
   ]
  },
  {
   "cell_type": "code",
   "execution_count": 6,
   "metadata": {
    "collapsed": false
   },
   "outputs": [],
   "source": [
    "x = requests.get(host, params = params)"
   ]
  },
  {
   "cell_type": "code",
   "execution_count": 7,
   "metadata": {
    "collapsed": false
   },
   "outputs": [
    {
     "data": {
      "text/plain": [
       "<Response [200]>"
      ]
     },
     "execution_count": 7,
     "metadata": {},
     "output_type": "execute_result"
    }
   ],
   "source": [
    "x"
   ]
  },
  {
   "cell_type": "code",
   "execution_count": 8,
   "metadata": {
    "collapsed": false
   },
   "outputs": [],
   "source": [
    "host = \"https://api.stratz.com/api/v1/match/3304258209\"\n",
    "rs = (grequests.get(host),)\n",
    "x = grequests.map(rs)\n",
    "data = x[0].json()"
   ]
  },
  {
   "cell_type": "code",
   "execution_count": 8,
   "metadata": {
    "collapsed": false
   },
   "outputs": [
    {
     "name": "stdout",
     "output_type": "stream",
     "text": [
      "dict_keys(['clusterId', 'challenge', 'id', 'lobbyType', 'rank', 'roshanEvents', 'gameVersionId', 'runeEvents', 'isStats', 'gameResult', 'firstBloodTime', 'didRadiantWin', 'duration', 'gameMode', 'parsedDate', 'wardEvents', 'towerDeathEvents', 'avgImp', 'bracket', 'regionId', 'direKills', 'players', 'buildingEvents', 'radiantKills', 'replaySalt', 'tier', 'courierEvents', 'endDate'])\n"
     ]
    }
   ],
   "source": [
    "keys = data.keys()\n",
    "print(keys)"
   ]
  },
  {
   "cell_type": "code",
   "execution_count": 9,
   "metadata": {
    "collapsed": false
   },
   "outputs": [
    {
     "data": {
      "text/plain": [
       "[188,\n",
       " 43,\n",
       " 29,\n",
       " 38,\n",
       " 46,\n",
       " 46,\n",
       " 84,\n",
       " 244,\n",
       " 27,\n",
       " 27,\n",
       " 214,\n",
       " 46,\n",
       " 46,\n",
       " 46,\n",
       " 25,\n",
       " 182,\n",
       " 46,\n",
       " 46,\n",
       " 64,\n",
       " 65,\n",
       " 46,\n",
       " 46,\n",
       " 23,\n",
       " 21,\n",
       " 22,\n",
       " 60,\n",
       " 108]"
      ]
     },
     "execution_count": 9,
     "metadata": {},
     "output_type": "execute_result"
    }
   ],
   "source": [
    "testsequence = [event['item'] for event in data['players'][0]['purchaseEvents']]\n",
    "testitems = [45, 42, 44]\n",
    "list(filter(lambda a: a not in testitems, testsequence))"
   ]
  },
  {
   "cell_type": "code",
   "execution_count": 10,
   "metadata": {
    "collapsed": false
   },
   "outputs": [
    {
     "data": {
      "text/plain": [
       "dict_keys(['clusterId', 'challenge', 'id', 'lobbyType', 'rank', 'roshanEvents', 'gameVersionId', 'runeEvents', 'isStats', 'gameResult', 'firstBloodTime', 'didRadiantWin', 'duration', 'gameMode', 'parsedDate', 'wardEvents', 'towerDeathEvents', 'avgImp', 'bracket', 'regionId', 'direKills', 'players', 'buildingEvents', 'radiantKills', 'replaySalt', 'tier', 'courierEvents', 'endDate'])"
      ]
     },
     "execution_count": 10,
     "metadata": {},
     "output_type": "execute_result"
    }
   ],
   "source": [
    "keys"
   ]
  },
  {
   "cell_type": "code",
   "execution_count": 11,
   "metadata": {
    "collapsed": false
   },
   "outputs": [
    {
     "data": {
      "text/plain": [
       "dict_keys(['role', 'abilityLearnEvents', 'item3', 'heroDamage', 'level', 'abilityActiveLists', 'item4', 'item1', 'playerUpdateLevelEvents', 'item0', 'goldPerMinute', 'award', 'expPerMinute', 'healEvents', 'playerUpdateGoldEvents', 'soloRank', 'isRadiant', 'name', 'deathEvents', 'leaverStatus', 'lane', 'imp', 'playerUpdatePositionEvents', 'towerDamageEvents', 'inventoryEvent', 'assistEvents', 'heroDamageEvents', 'purchaseEvents', 'avatar', 'steamId', 'numDeaths', 'avatarMedium', 'numDenies', 'slot', 'killEvents', 'goldSpent', 'heroAvgImp', 'heroHealing', 'csEvents', 'avatarFull', 'abilityUsedEvents', 'item5', 'playerUpdateAttributeEvents', 'buyBackEvents', 'towerDamage', 'experienceEvents', 'numAssists', 'goldEvents', 'partyRank', 'hero', 'playerUpdateHealthEvents', 'profileUrl', 'numKills', 'playerUpdateBattleEvents', 'item2', 'numLastHits'])"
      ]
     },
     "execution_count": 11,
     "metadata": {},
     "output_type": "execute_result"
    }
   ],
   "source": [
    "data['players'][0].keys()"
   ]
  },
  {
   "cell_type": "code",
   "execution_count": 12,
   "metadata": {
    "collapsed": false
   },
   "outputs": [
    {
     "name": "stdout",
     "output_type": "stream",
     "text": [
      "1\n",
      "1\n",
      "92\n",
      "[{'item': 188, 'time': -89}, {'item': 43, 'time': -89}, {'item': 29, 'time': -89}, {'item': 44, 'time': -89}, {'item': 38, 'time': -89}, {'item': 46, 'time': -85}, {'item': 46, 'time': -84}, {'item': 84, 'time': 187}, {'item': 42, 'time': 193}, {'item': 42, 'time': 236}, {'item': 42, 'time': 384}, {'item': 244, 'time': 389}, {'item': 27, 'time': 389}, {'item': 27, 'time': 432}, {'item': 214, 'time': 440}, {'item': 46, 'time': 509}, {'item': 42, 'time': 528}, {'item': 46, 'time': 603}, {'item': 46, 'time': 719}, {'item': 42, 'time': 720}, {'item': 25, 'time': 809}, {'item': 182, 'time': 811}, {'item': 42, 'time': 816}, {'item': 46, 'time': 882}, {'item': 46, 'time': 1059}, {'item': 64, 'time': 1264}, {'item': 65, 'time': 1264}, {'item': 46, 'time': 1277}, {'item': 46, 'time': 1533}, {'item': 23, 'time': 1758}, {'item': 21, 'time': 1758}, {'item': 22, 'time': 1758}, {'item': 60, 'time': 1760}, {'item': 108, 'time': 1760}, {'item': 42, 'time': 1919}]\n",
      "0\n",
      "1\n",
      "2\n",
      "3\n",
      "4\n",
      "128\n",
      "129\n",
      "130\n",
      "131\n",
      "132\n"
     ]
    }
   ],
   "source": [
    "print(data['players'][0]['role'])\n",
    "print(data['players'][0]['lane'])\n",
    "print(data['players'][0]['hero'])\n",
    "print(data['players'][0]['purchaseEvents'])\n",
    "for player in data['players']:\n",
    "    print(player['slot'])"
   ]
  },
  {
   "cell_type": "markdown",
   "metadata": {},
   "source": [
    "**Need to get steamIDs for players by going through the matchIDs of high level games**"
   ]
  },
  {
   "cell_type": "code",
   "execution_count": 13,
   "metadata": {
    "collapsed": true
   },
   "outputs": [],
   "source": [
    "def nextBatchOfMatches(idList):\n",
    "    queryParams = {\"matchId\":idList, \n",
    "          \"include\": [\"Player\"],\n",
    "         \"gameMode\": [2, 22],\n",
    "         \"lobbyType\": [2, 7]}\n",
    "    x = requests.get(host, params = queryParams)\n",
    "    x = x.json()\n",
    "    for entry in x['results']:\n",
    "        for player in entry['players']:\n",
    "            playerSet.add(player['steamId'])"
   ]
  },
  {
   "cell_type": "code",
   "execution_count": 14,
   "metadata": {
    "collapsed": false
   },
   "outputs": [],
   "source": [
    "if os.path.exists('playerset.txt'):\n",
    "    playerSet = np.loadtxt('playerset.txt', dtype=np.int64)\n",
    "else:\n",
    "    playerSet = set()\n",
    "    allMatches = np.loadtxt('matchids.txt', dtype=np.int64)\n",
    "    allMatches = split(allMatches, 10)\n",
    "    for matches in allMatches:\n",
    "        nextBatchOfMatches(matches)\n",
    "    playerSet = list(playerSet)\n",
    "    np.savetxt('playerset.txt', playerSet, delimiter=',', fmt = \"%.0f\")"
   ]
  },
  {
   "cell_type": "markdown",
   "metadata": {},
   "source": [
    "With player set, we can obtain matches. For the players above, get the matches these players play and also categorize the players and heroes"
   ]
  },
  {
   "cell_type": "code",
   "execution_count": 15,
   "metadata": {
    "collapsed": false
   },
   "outputs": [],
   "source": [
    "# 8 is jug and 74 is invoker and 106 is ember\n",
    "def playerMatchObtain(player, heroList = [8, 74, 106]):\n",
    "    host = \"https://api.stratz.com/api/v1/match\"\n",
    "    queryParams = {\"steamId\": player, \n",
    "                   \"heroId\": heroList,\n",
    "                   \"gameMode\": [2, 22],\n",
    "                   \"lobbyType\": [2, 7],\n",
    "                   \"gameVersion\": 79, \n",
    "                  \"take\": 100}\n",
    "    x = requests.get(host, params = queryParams)\n",
    "    x = x.json()\n",
    "    for entry in x['results']:\n",
    "        matchSet.add(entry['id'])"
   ]
  },
  {
   "cell_type": "code",
   "execution_count": 16,
   "metadata": {
    "collapsed": false
   },
   "outputs": [],
   "source": [
    "print('Loading matches')\n",
    "matchSet = set()\n",
    "if os.path.exists('matchset.txt'):\n",
    "    matchSet = np.loadtxt('matchset.txt', dtype=np.int64)\n",
    "else:\n",
    "    allplayers = np.loadtxt('playerset.txt', dtype=np.int64)\n",
    "    for player in allplayers:\n",
    "        playerMatchObtain(player, heroList=[74])\n",
    "    matchSet = list(matchSet)\n",
    "    np.savetxt('matchset.txt', matchSet, delimiter=',', fmt = \"%.0f\")"
   ]
  },
  {
   "cell_type": "code",
   "execution_count": 17,
   "metadata": {
    "collapsed": false
   },
   "outputs": [
    {
     "data": {
      "text/plain": [
       "589"
      ]
     },
     "execution_count": 17,
     "metadata": {},
     "output_type": "execute_result"
    }
   ],
   "source": [
    "len(playerSet)"
   ]
  },
  {
   "cell_type": "code",
   "execution_count": 18,
   "metadata": {
    "collapsed": false
   },
   "outputs": [
    {
     "data": {
      "text/plain": [
       "1542"
      ]
     },
     "execution_count": 18,
     "metadata": {},
     "output_type": "execute_result"
    }
   ],
   "source": [
    "len(matchSet)"
   ]
  },
  {
   "cell_type": "markdown",
   "metadata": {
    "collapsed": false
   },
   "source": [
    "** Time to Parse these Matches**\n",
    "Need to make sure to remove tps and wards from buy list as you can buy them at any time depending on the situation"
   ]
  },
  {
   "cell_type": "code",
   "execution_count": 35,
   "metadata": {
    "collapsed": false
   },
   "outputs": [],
   "source": [
    "prototypeDataframe = {\n",
    "    \"invokerItems\": [], \"invokerSideRadiant\": [], \n",
    "    \"invokerSideHero1\": [], \"invokerSideHero2\": [], \n",
    "    \"invokerSideHero3\": [], \"invokerSideHero4\": [],\n",
    "    \"otherSideHero1\": [], \"otherSideHero2\": [],\n",
    "    \"otherSideHero3\": [], \"otherSideHero4\": [],\n",
    "    \"otherSideHero5\": [], \n",
    "    \"invokerSideHero1Steam\": [], \"invokerSideHero2Steam\": [], \n",
    "    \"invokerSideHero3Steam\": [], \"invokerSideHero4Steam\": [],\n",
    "    \"otherSideHero1Steam\": [], \"otherSideHero2Steam\": [],\n",
    "    \"otherSideHero3Steam\": [], \"otherSideHero4Steam\": [],\n",
    "    \"otherSideHero5Steam\": [], \"matchId\": []\n",
    "}\n",
    "session = requests.Session()\n",
    "def analyzeMatchesForFeatures(matchList, heroesToTestItems = [8, 74, 106], ):\n",
    "    hostInitial = \"https://api.stratz.com/api/v1/match/\"\n",
    "    rs = (grequests.get(hostInitial + str(match), session=session) for match in matchList)\n",
    "    x = grequests.map(rs, size = 50)\n",
    "    for matchUnparsed in x:\n",
    "        if not matchUnparsed.ok:\n",
    "            matchUnparsed.close()\n",
    "            continue\n",
    "        match = matchUnparsed.json()\n",
    "        radiantHeroes = []\n",
    "        direHeroes = []\n",
    "        radiantSteams = []\n",
    "        direSteams = []\n",
    "        invokerSideRadiant = None\n",
    "        for player in match['players']:\n",
    "            # we have the invoker\n",
    "            if player['hero'] == 74:\n",
    "                invokerSideRadiant = player['slot'] < 5\n",
    "                invokerItems = [event['item'] for event in player['purchaseEvents']]\n",
    "            else:\n",
    "                if player['slot'] < 5:\n",
    "                    radiantHeroes.append(player['hero'])\n",
    "                    radiantSteams.append(player['steamId'])\n",
    "                else: \n",
    "                    direHeroes.append(player['hero'])\n",
    "                    direSteams.append(player['steamId'])\n",
    "        invokerWon = invokerSideRadiant == match['didRadiantWin']\n",
    "        if not invokerWon:\n",
    "            matchUnparsed.close()\n",
    "            continue\n",
    "        prototypeDataframe['matchId'].append(match['id'])\n",
    "        prototypeDataframe['invokerSideRadiant'].append(invokerSideRadiant)\n",
    "        prototypeDataframe['invokerItems'].append(invokerItems)\n",
    "        if invokerSideRadiant:\n",
    "            invokerSideHeroes = radiantHeroes\n",
    "            invokerSideSteams = radiantSteams\n",
    "            otherSideHeroes = direHeroes\n",
    "            otherSideSteams = direSteams\n",
    "        else:\n",
    "            invokerSideHeroes = direHeroes\n",
    "            invokerSideSteams = direSteams\n",
    "            otherSideHeroes = radiantHeroes\n",
    "            otherSideSteams = radiantSteams\n",
    "        for ix1 in range(5):\n",
    "            prototypeDataframe['otherSideHero' + str(ix1+1)].append(otherSideHeroes[ix1])\n",
    "            prototypeDataframe['otherSideHero' + str(ix1+1) + 'Steam'].append(otherSideSteams[ix1])\n",
    "            if ix1 != 4:\n",
    "                prototypeDataframe['invokerSideHero' + str(ix1+1)].append(invokerSideHeroes[ix1])\n",
    "                prototypeDataframe['invokerSideHero'+ str(ix1+1) + 'Steam'].append(invokerSideSteams[ix1])\n",
    "        matchUnparsed.close()"
   ]
  },
  {
   "cell_type": "code",
   "execution_count": 36,
   "metadata": {
    "collapsed": false
   },
   "outputs": [],
   "source": [
    "from scipy import stats\n",
    "def GetHeroHistory(steamid, heroid):\n",
    "    host = \"https://api.stratz.com/api/v1/match\"\n",
    "    queryParams = {\"steamId\": steamid, \n",
    "                   \"heroId\": heroid,\n",
    "                   \"include\": \"Player\",\n",
    "                   \"playerType\": \"Single\",\n",
    "                   \"gameMode\": [2, 22],\n",
    "                   \"lobbyType\": [2, 7],\n",
    "                   \"gameVersion\": 79, \n",
    "                  \"take\": 100}\n",
    "    x = requests.get(host, params = queryParams)\n",
    "    x = x.json()\n",
    "    features = {'kills': [], 'deaths': [], 'assists': [], \n",
    "                'lastHits': [], 'denies': [], 'gold': [], 'xp': [],\n",
    "                'heroDamage': [], 'heroHealing': [], 'role': []}\n",
    "    # operating on the game level\n",
    "    for game in x['results']:\n",
    "        # duration is in seconds\n",
    "        duration = game['duration']\n",
    "        features['kills'].append(game['players'][0]['numKills'])\n",
    "        features['deaths'].append(game['players'][0]['numDeaths'])\n",
    "        features['assists'].append(game['players'][0]['numAssists'])\n",
    "        features['lastHits'].append(game['players'][0]['numLastHits'])\n",
    "        features['denies'].append(game['players'][0]['numDenies'])\n",
    "        features['gold'].append(game['players'][0]['goldPerMinute'] * 1.0 * duration/60)\n",
    "        features['xp'].append(game['players'][0]['expPerMinute'] * 1.0 * duration/60)\n",
    "        features['heroDamage'].append(game['players'][0]['heroDamage'])\n",
    "        features['heroHealing'].append(game['players'][0]['heroHealing'])\n",
    "        features['role'].append(game['players'][0]['role'])\n",
    "    return {'kills': np.mean(features['kills']), 'deaths': np.mean(features['deaths']), \n",
    "            'assists': np.mean(features['assists']), \n",
    "            'lastHits': np.mean(features['lastHits']), 'denies': np.mean(features['denies']), \n",
    "            'gold': np.mean(features['gold']), 'xp': np.mean(features['xp']),\n",
    "            'heroDamage': np.mean(features['heroDamage']), 'heroHealing': np.mean(features['heroHealing']), \n",
    "            'role': stats.mode(features['role'])[0][0]}"
   ]
  },
  {
   "cell_type": "code",
   "execution_count": 28,
   "metadata": {
    "collapsed": false
   },
   "outputs": [
    {
     "name": "stdout",
     "output_type": "stream",
     "text": [
      "<Response [200]>\n"
     ]
    },
    {
     "data": {
      "text/plain": [
       "{'assists': 10.714285714285714,\n",
       " 'deaths': 5.0,\n",
       " 'denies': 23.523809523809526,\n",
       " 'gold': 23939.938095238093,\n",
       " 'heroDamage': 28706.238095238095,\n",
       " 'heroHealing': 0.0,\n",
       " 'kills': 9.0952380952380949,\n",
       " 'lastHits': 266.14285714285717,\n",
       " 'role': 0,\n",
       " 'xp': 26422.60396825397}"
      ]
     },
     "execution_count": 28,
     "metadata": {},
     "output_type": "execute_result"
    }
   ],
   "source": [
    "GetHeroHistory(54325937, 74)"
   ]
  },
  {
   "cell_type": "code",
   "execution_count": 6,
   "metadata": {
    "collapsed": false
   },
   "outputs": [],
   "source": [
    "print('Loading invoker data')\n",
    "if not os.path.exists('invokerMatchFeatureSetPlus.csv'):\n",
    "    analyzeMatchesForFeatures(matchSet)\n",
    "    invokerMatchFeatureSetPlus = pd.DataFrame(prototypeDataframe)\n",
    "    invokerMatchFeatureSetPlus.to_csv('invokerMatchFeatureSetPlus.csv', index=False)\n",
    "else:\n",
    "    invokerMatchFeatureSetPlus = pd.read_csv('invokerMatchFeatureSetPlus.csv')"
   ]
  },
  {
   "cell_type": "markdown",
   "metadata": {},
   "source": [
    "**Time to augment the invoker matches**"
   ]
  },
  {
   "cell_type": "code",
   "execution_count": 37,
   "metadata": {
    "collapsed": false
   },
   "outputs": [],
   "source": [
    "def invokerRowAugment(row):\n",
    "    data = {}\n",
    "    data['matchId'] = int(row['matchId'])\n",
    "    # go over the four players on invoker side and five on other side\n",
    "    for ix in range(5):\n",
    "        heroInfo = GetHeroHistory(row['otherSideHero' + str(ix+1) + 'Steam'], row['otherSideHero' + str(ix+1)])\n",
    "        data['OSHero' + str(ix+1) + 'hero'] = int(row['otherSideHero' + str(ix+1)])\n",
    "        data['OSHero' + str(ix+1) + 'kills'] = heroInfo['kills']\n",
    "        data['OSHero' + str(ix+1) + 'deaths'] = heroInfo['deaths']\n",
    "        data['OSHero' + str(ix+1) + 'assists'] = heroInfo['assists']\n",
    "        data['OSHero' + str(ix+1) + 'lastHits'] = heroInfo['lastHits']\n",
    "        data['OSHero' + str(ix+1) + 'denies'] = heroInfo['denies']\n",
    "        data['OSHero' + str(ix+1) + 'gold'] = heroInfo['gold']\n",
    "        data['OSHero' + str(ix+1) + 'xp'] = heroInfo['xp']\n",
    "        data['OSHero' + str(ix+1) + 'heroDamage'] = heroInfo['heroDamage']\n",
    "        data['OSHero' + str(ix+1) + 'heroHealing'] = heroInfo['heroHealing']\n",
    "        data['OSHero' + str(ix+1) + 'role'] = heroInfo['role']\n",
    "        if ix != 4:\n",
    "            heroInfo = GetHeroHistory(row['invokerSideHero' + str(ix+1) + 'Steam'], \n",
    "                                      row['invokerSideHero' + str(ix+1)])\n",
    "            data['ISHero' + str(ix+1) + 'hero'] = int(row['invokerSideHero' + str(ix+1)])\n",
    "            data['ISHero' + str(ix+1) + 'kills'] = heroInfo['kills']\n",
    "            data['ISHero' + str(ix+1) + 'deaths'] = heroInfo['deaths']\n",
    "            data['ISHero' + str(ix+1) + 'assists'] = heroInfo['assists']\n",
    "            data['ISHero' + str(ix+1) + 'lastHits'] = heroInfo['lastHits']\n",
    "            data['ISHero' + str(ix+1) + 'denies'] = heroInfo['denies']\n",
    "            data['ISHero' + str(ix+1) + 'gold'] = heroInfo['gold']\n",
    "            data['ISHero' + str(ix+1) + 'xp'] = heroInfo['xp']\n",
    "            data['ISHero' + str(ix+1) + 'heroDamage'] = heroInfo['heroDamage']\n",
    "            data['ISHero' + str(ix+1) + 'heroHealing'] = heroInfo['heroHealing']\n",
    "            data['ISHero' + str(ix+1) + 'role'] = heroInfo['role']\n",
    "    return pd.Series(data)"
   ]
  },
  {
   "cell_type": "code",
   "execution_count": 38,
   "metadata": {
    "collapsed": false
   },
   "outputs": [
    {
     "data": {
      "text/html": [
       "<div>\n",
       "<style>\n",
       "    .dataframe thead tr:only-child th {\n",
       "        text-align: right;\n",
       "    }\n",
       "\n",
       "    .dataframe thead th {\n",
       "        text-align: left;\n",
       "    }\n",
       "\n",
       "    .dataframe tbody tr th {\n",
       "        vertical-align: top;\n",
       "    }\n",
       "</style>\n",
       "<table border=\"1\" class=\"dataframe\">\n",
       "  <thead>\n",
       "    <tr style=\"text-align: right;\">\n",
       "      <th></th>\n",
       "      <th>ISHero1assists</th>\n",
       "      <th>ISHero1deaths</th>\n",
       "      <th>ISHero1denies</th>\n",
       "      <th>ISHero1gold</th>\n",
       "      <th>ISHero1hero</th>\n",
       "      <th>ISHero1heroDamage</th>\n",
       "      <th>ISHero1heroHealing</th>\n",
       "      <th>ISHero1kills</th>\n",
       "      <th>ISHero1lastHits</th>\n",
       "      <th>ISHero1role</th>\n",
       "      <th>...</th>\n",
       "      <th>OSHero5denies</th>\n",
       "      <th>OSHero5gold</th>\n",
       "      <th>OSHero5hero</th>\n",
       "      <th>OSHero5heroDamage</th>\n",
       "      <th>OSHero5heroHealing</th>\n",
       "      <th>OSHero5kills</th>\n",
       "      <th>OSHero5lastHits</th>\n",
       "      <th>OSHero5role</th>\n",
       "      <th>OSHero5xp</th>\n",
       "      <th>matchId</th>\n",
       "    </tr>\n",
       "  </thead>\n",
       "  <tbody>\n",
       "    <tr>\n",
       "      <th>0</th>\n",
       "      <td>20.142857</td>\n",
       "      <td>7.00</td>\n",
       "      <td>2.00</td>\n",
       "      <td>14722.040476</td>\n",
       "      <td>16.0</td>\n",
       "      <td>16415.0</td>\n",
       "      <td>0.00</td>\n",
       "      <td>6.571429</td>\n",
       "      <td>100.142857</td>\n",
       "      <td>1.0</td>\n",
       "      <td>...</td>\n",
       "      <td>16.50</td>\n",
       "      <td>10437.416667</td>\n",
       "      <td>13.0</td>\n",
       "      <td>12511.0</td>\n",
       "      <td>0.00</td>\n",
       "      <td>3.5</td>\n",
       "      <td>138.00</td>\n",
       "      <td>0.0</td>\n",
       "      <td>13053.316667</td>\n",
       "      <td>3.305849e+09</td>\n",
       "    </tr>\n",
       "    <tr>\n",
       "      <th>1</th>\n",
       "      <td>9.450000</td>\n",
       "      <td>4.65</td>\n",
       "      <td>17.95</td>\n",
       "      <td>24818.813333</td>\n",
       "      <td>48.0</td>\n",
       "      <td>24606.4</td>\n",
       "      <td>0.00</td>\n",
       "      <td>9.100000</td>\n",
       "      <td>349.450000</td>\n",
       "      <td>0.0</td>\n",
       "      <td>...</td>\n",
       "      <td>27.00</td>\n",
       "      <td>10129.600000</td>\n",
       "      <td>20.0</td>\n",
       "      <td>7111.0</td>\n",
       "      <td>0.00</td>\n",
       "      <td>4.0</td>\n",
       "      <td>89.00</td>\n",
       "      <td>0.0</td>\n",
       "      <td>10056.550000</td>\n",
       "      <td>3.312411e+09</td>\n",
       "    </tr>\n",
       "    <tr>\n",
       "      <th>2</th>\n",
       "      <td>14.000000</td>\n",
       "      <td>6.00</td>\n",
       "      <td>3.00</td>\n",
       "      <td>11157.066667</td>\n",
       "      <td>7.0</td>\n",
       "      <td>14788.0</td>\n",
       "      <td>0.00</td>\n",
       "      <td>4.000000</td>\n",
       "      <td>50.000000</td>\n",
       "      <td>0.0</td>\n",
       "      <td>...</td>\n",
       "      <td>1.00</td>\n",
       "      <td>10712.266667</td>\n",
       "      <td>5.0</td>\n",
       "      <td>12599.0</td>\n",
       "      <td>0.00</td>\n",
       "      <td>4.0</td>\n",
       "      <td>63.00</td>\n",
       "      <td>2.0</td>\n",
       "      <td>15382.666667</td>\n",
       "      <td>3.311329e+09</td>\n",
       "    </tr>\n",
       "    <tr>\n",
       "      <th>3</th>\n",
       "      <td>8.000000</td>\n",
       "      <td>5.50</td>\n",
       "      <td>2.50</td>\n",
       "      <td>16554.233333</td>\n",
       "      <td>9.0</td>\n",
       "      <td>9253.5</td>\n",
       "      <td>0.00</td>\n",
       "      <td>4.500000</td>\n",
       "      <td>174.000000</td>\n",
       "      <td>0.0</td>\n",
       "      <td>...</td>\n",
       "      <td>0.00</td>\n",
       "      <td>11110.400000</td>\n",
       "      <td>62.0</td>\n",
       "      <td>12089.0</td>\n",
       "      <td>0.00</td>\n",
       "      <td>3.0</td>\n",
       "      <td>27.00</td>\n",
       "      <td>1.0</td>\n",
       "      <td>14712.600000</td>\n",
       "      <td>3.290997e+09</td>\n",
       "    </tr>\n",
       "    <tr>\n",
       "      <th>4</th>\n",
       "      <td>8.700000</td>\n",
       "      <td>5.50</td>\n",
       "      <td>18.30</td>\n",
       "      <td>19258.345000</td>\n",
       "      <td>70.0</td>\n",
       "      <td>28067.8</td>\n",
       "      <td>712.05</td>\n",
       "      <td>14.400000</td>\n",
       "      <td>180.000000</td>\n",
       "      <td>0.0</td>\n",
       "      <td>...</td>\n",
       "      <td>9.45</td>\n",
       "      <td>25446.330833</td>\n",
       "      <td>25.0</td>\n",
       "      <td>27995.7</td>\n",
       "      <td>1678.65</td>\n",
       "      <td>12.9</td>\n",
       "      <td>354.85</td>\n",
       "      <td>0.0</td>\n",
       "      <td>26988.554167</td>\n",
       "      <td>3.303555e+09</td>\n",
       "    </tr>\n",
       "  </tbody>\n",
       "</table>\n",
       "<p>5 rows × 100 columns</p>\n",
       "</div>"
      ],
      "text/plain": [
       "   ISHero1assists  ISHero1deaths  ISHero1denies   ISHero1gold  ISHero1hero  \\\n",
       "0       20.142857           7.00           2.00  14722.040476         16.0   \n",
       "1        9.450000           4.65          17.95  24818.813333         48.0   \n",
       "2       14.000000           6.00           3.00  11157.066667          7.0   \n",
       "3        8.000000           5.50           2.50  16554.233333          9.0   \n",
       "4        8.700000           5.50          18.30  19258.345000         70.0   \n",
       "\n",
       "   ISHero1heroDamage  ISHero1heroHealing  ISHero1kills  ISHero1lastHits  \\\n",
       "0            16415.0                0.00      6.571429       100.142857   \n",
       "1            24606.4                0.00      9.100000       349.450000   \n",
       "2            14788.0                0.00      4.000000        50.000000   \n",
       "3             9253.5                0.00      4.500000       174.000000   \n",
       "4            28067.8              712.05     14.400000       180.000000   \n",
       "\n",
       "   ISHero1role      ...       OSHero5denies   OSHero5gold  OSHero5hero  \\\n",
       "0          1.0      ...               16.50  10437.416667         13.0   \n",
       "1          0.0      ...               27.00  10129.600000         20.0   \n",
       "2          0.0      ...                1.00  10712.266667          5.0   \n",
       "3          0.0      ...                0.00  11110.400000         62.0   \n",
       "4          0.0      ...                9.45  25446.330833         25.0   \n",
       "\n",
       "   OSHero5heroDamage  OSHero5heroHealing  OSHero5kills  OSHero5lastHits  \\\n",
       "0            12511.0                0.00           3.5           138.00   \n",
       "1             7111.0                0.00           4.0            89.00   \n",
       "2            12599.0                0.00           4.0            63.00   \n",
       "3            12089.0                0.00           3.0            27.00   \n",
       "4            27995.7             1678.65          12.9           354.85   \n",
       "\n",
       "   OSHero5role     OSHero5xp       matchId  \n",
       "0          0.0  13053.316667  3.305849e+09  \n",
       "1          0.0  10056.550000  3.312411e+09  \n",
       "2          2.0  15382.666667  3.311329e+09  \n",
       "3          1.0  14712.600000  3.290997e+09  \n",
       "4          0.0  26988.554167  3.303555e+09  \n",
       "\n",
       "[5 rows x 100 columns]"
      ]
     },
     "execution_count": 38,
     "metadata": {},
     "output_type": "execute_result"
    }
   ],
   "source": [
    "print('Loading supplemental data')\n",
    "if not os.path.exists('supplementalInvokerMatchData.csv'):\n",
    "    supplementalInvokerMatchData = invokerMatchFeatureSetPlus.apply(invokerRowAugment, axis=1)\n",
    "    supplementalInvokerMatchData.to_csv('supplementalInvokerMatchData.csv', index=False)\n",
    "else:\n",
    "    supplementalInvokerMatchData = pd.read_csv('supplementalInvokerMatchData.csv')"
   ]
  }
 ],
 "metadata": {
  "kernelspec": {
   "display_name": "Python 3",
   "language": "python",
   "name": "python3"
  },
  "language_info": {
   "codemirror_mode": {
    "name": "ipython",
    "version": 3
   },
   "file_extension": ".py",
   "mimetype": "text/x-python",
   "name": "python",
   "nbconvert_exporter": "python",
   "pygments_lexer": "ipython3",
   "version": "3.5.2"
  }
 },
 "nbformat": 4,
 "nbformat_minor": 0
}
