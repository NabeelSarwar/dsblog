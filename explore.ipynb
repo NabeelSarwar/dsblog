{
 "cells": [
  {
   "cell_type": "code",
   "execution_count": 1,
   "metadata": {
    "collapsed": false
   },
   "outputs": [],
   "source": [
    "import pandas as pd\n",
    "import numpy as np\n",
    "import requests\n",
    "import grequests\n",
    "import os.path"
   ]
  },
  {
   "cell_type": "code",
   "execution_count": 2,
   "metadata": {
    "collapsed": true
   },
   "outputs": [],
   "source": [
    "# auxiliary function for below\n",
    "def split(theList, n):\n",
    "    for i in range(0, len(theList), n):\n",
    "        yield theList[i:i + n]"
   ]
  },
  {
   "cell_type": "code",
   "execution_count": 3,
   "metadata": {
    "collapsed": true
   },
   "outputs": [],
   "source": [
    "host = \"https://api.stratz.com/api/v1/match\""
   ]
  },
  {
   "cell_type": "code",
   "execution_count": 5,
   "metadata": {
    "collapsed": false
   },
   "outputs": [],
   "source": [
    "params = {\"matchId\":[3304258209,3304204784], \n",
    "          \"include\": [\"Player\"],\n",
    "         \"gameMode\": [2, 22],\n",
    "         \"lobbyType\": [2, 7]}"
   ]
  },
  {
   "cell_type": "code",
   "execution_count": 6,
   "metadata": {
    "collapsed": false
   },
   "outputs": [],
   "source": [
    "x = requests.get(host, params = params)"
   ]
  },
  {
   "cell_type": "code",
   "execution_count": 7,
   "metadata": {
    "collapsed": false
   },
   "outputs": [
    {
     "data": {
      "text/plain": [
       "<Response [200]>"
      ]
     },
     "execution_count": 7,
     "metadata": {},
     "output_type": "execute_result"
    }
   ],
   "source": [
    "x"
   ]
  },
  {
   "cell_type": "code",
   "execution_count": 8,
   "metadata": {
    "collapsed": false
   },
   "outputs": [],
   "source": [
    "host = \"https://api.stratz.com/api/v1/match/3304258209\"\n",
    "rs = (grequests.get(host),)\n",
    "x = grequests.map(rs)\n",
    "data = x[0].json()"
   ]
  },
  {
   "cell_type": "code",
   "execution_count": 8,
   "metadata": {
    "collapsed": false
   },
   "outputs": [
    {
     "name": "stdout",
     "output_type": "stream",
     "text": [
      "dict_keys(['clusterId', 'challenge', 'id', 'lobbyType', 'rank', 'roshanEvents', 'gameVersionId', 'runeEvents', 'isStats', 'gameResult', 'firstBloodTime', 'didRadiantWin', 'duration', 'gameMode', 'parsedDate', 'wardEvents', 'towerDeathEvents', 'avgImp', 'bracket', 'regionId', 'direKills', 'players', 'buildingEvents', 'radiantKills', 'replaySalt', 'tier', 'courierEvents', 'endDate'])\n"
     ]
    }
   ],
   "source": [
    "keys = data.keys()\n",
    "print(keys)"
   ]
  },
  {
   "cell_type": "code",
   "execution_count": 9,
   "metadata": {
    "collapsed": false
   },
   "outputs": [
    {
     "data": {
      "text/plain": [
       "[188,\n",
       " 43,\n",
       " 29,\n",
       " 38,\n",
       " 46,\n",
       " 46,\n",
       " 84,\n",
       " 244,\n",
       " 27,\n",
       " 27,\n",
       " 214,\n",
       " 46,\n",
       " 46,\n",
       " 46,\n",
       " 25,\n",
       " 182,\n",
       " 46,\n",
       " 46,\n",
       " 64,\n",
       " 65,\n",
       " 46,\n",
       " 46,\n",
       " 23,\n",
       " 21,\n",
       " 22,\n",
       " 60,\n",
       " 108]"
      ]
     },
     "execution_count": 9,
     "metadata": {},
     "output_type": "execute_result"
    }
   ],
   "source": [
    "testsequence = [event['item'] for event in data['players'][0]['purchaseEvents']]\n",
    "testitems = [45, 42, 44]\n",
    "list(filter(lambda a: a not in testitems, testsequence))"
   ]
  },
  {
   "cell_type": "code",
   "execution_count": 10,
   "metadata": {
    "collapsed": false
   },
   "outputs": [
    {
     "data": {
      "text/plain": [
       "dict_keys(['clusterId', 'challenge', 'id', 'lobbyType', 'rank', 'roshanEvents', 'gameVersionId', 'runeEvents', 'isStats', 'gameResult', 'firstBloodTime', 'didRadiantWin', 'duration', 'gameMode', 'parsedDate', 'wardEvents', 'towerDeathEvents', 'avgImp', 'bracket', 'regionId', 'direKills', 'players', 'buildingEvents', 'radiantKills', 'replaySalt', 'tier', 'courierEvents', 'endDate'])"
      ]
     },
     "execution_count": 10,
     "metadata": {},
     "output_type": "execute_result"
    }
   ],
   "source": [
    "keys"
   ]
  },
  {
   "cell_type": "code",
   "execution_count": 11,
   "metadata": {
    "collapsed": false
   },
   "outputs": [
    {
     "data": {
      "text/plain": [
       "dict_keys(['role', 'abilityLearnEvents', 'item3', 'heroDamage', 'level', 'abilityActiveLists', 'item4', 'item1', 'playerUpdateLevelEvents', 'item0', 'goldPerMinute', 'award', 'expPerMinute', 'healEvents', 'playerUpdateGoldEvents', 'soloRank', 'isRadiant', 'name', 'deathEvents', 'leaverStatus', 'lane', 'imp', 'playerUpdatePositionEvents', 'towerDamageEvents', 'inventoryEvent', 'assistEvents', 'heroDamageEvents', 'purchaseEvents', 'avatar', 'steamId', 'numDeaths', 'avatarMedium', 'numDenies', 'slot', 'killEvents', 'goldSpent', 'heroAvgImp', 'heroHealing', 'csEvents', 'avatarFull', 'abilityUsedEvents', 'item5', 'playerUpdateAttributeEvents', 'buyBackEvents', 'towerDamage', 'experienceEvents', 'numAssists', 'goldEvents', 'partyRank', 'hero', 'playerUpdateHealthEvents', 'profileUrl', 'numKills', 'playerUpdateBattleEvents', 'item2', 'numLastHits'])"
      ]
     },
     "execution_count": 11,
     "metadata": {},
     "output_type": "execute_result"
    }
   ],
   "source": [
    "data['players'][0].keys()"
   ]
  },
  {
   "cell_type": "code",
   "execution_count": 12,
   "metadata": {
    "collapsed": false
   },
   "outputs": [
    {
     "name": "stdout",
     "output_type": "stream",
     "text": [
      "1\n",
      "1\n",
      "92\n",
      "[{'item': 188, 'time': -89}, {'item': 43, 'time': -89}, {'item': 29, 'time': -89}, {'item': 44, 'time': -89}, {'item': 38, 'time': -89}, {'item': 46, 'time': -85}, {'item': 46, 'time': -84}, {'item': 84, 'time': 187}, {'item': 42, 'time': 193}, {'item': 42, 'time': 236}, {'item': 42, 'time': 384}, {'item': 244, 'time': 389}, {'item': 27, 'time': 389}, {'item': 27, 'time': 432}, {'item': 214, 'time': 440}, {'item': 46, 'time': 509}, {'item': 42, 'time': 528}, {'item': 46, 'time': 603}, {'item': 46, 'time': 719}, {'item': 42, 'time': 720}, {'item': 25, 'time': 809}, {'item': 182, 'time': 811}, {'item': 42, 'time': 816}, {'item': 46, 'time': 882}, {'item': 46, 'time': 1059}, {'item': 64, 'time': 1264}, {'item': 65, 'time': 1264}, {'item': 46, 'time': 1277}, {'item': 46, 'time': 1533}, {'item': 23, 'time': 1758}, {'item': 21, 'time': 1758}, {'item': 22, 'time': 1758}, {'item': 60, 'time': 1760}, {'item': 108, 'time': 1760}, {'item': 42, 'time': 1919}]\n",
      "0\n",
      "1\n",
      "2\n",
      "3\n",
      "4\n",
      "128\n",
      "129\n",
      "130\n",
      "131\n",
      "132\n"
     ]
    }
   ],
   "source": [
    "print(data['players'][0]['role'])\n",
    "print(data['players'][0]['lane'])\n",
    "print(data['players'][0]['hero'])\n",
    "print(data['players'][0]['purchaseEvents'])\n",
    "for player in data['players']:\n",
    "    print(player['slot'])"
   ]
  },
  {
   "cell_type": "markdown",
   "metadata": {},
   "source": [
    "**Need to get steamIDs for players by going through the matchIDs of high level games**"
   ]
  },
  {
   "cell_type": "code",
   "execution_count": 13,
   "metadata": {
    "collapsed": true
   },
   "outputs": [],
   "source": [
    "def nextBatchOfMatches(idList):\n",
    "    queryParams = {\"matchId\":idList, \n",
    "          \"include\": [\"Player\"],\n",
    "         \"gameMode\": [2, 22],\n",
    "         \"lobbyType\": [2, 7]}\n",
    "    x = requests.get(host, params = queryParams)\n",
    "    x = x.json()\n",
    "    for entry in x['results']:\n",
    "        for player in entry['players']:\n",
    "            playerSet.add(player['steamId'])"
   ]
  },
  {
   "cell_type": "code",
   "execution_count": 14,
   "metadata": {
    "collapsed": false
   },
   "outputs": [],
   "source": [
    "if os.path.exists('playerset.txt'):\n",
    "    playerSet = np.loadtxt('playerset.txt', dtype=np.int64)\n",
    "else:\n",
    "    playerSet = set()\n",
    "    allMatches = np.loadtxt('matchids.txt', dtype=np.int64)\n",
    "    allMatches = split(allMatches, 10)\n",
    "    for matches in allMatches:\n",
    "        nextBatchOfMatches(matches)\n",
    "    playerSet = list(playerSet)\n",
    "    np.savetxt('playerset.txt', playerSet, delimiter=',', fmt = \"%.0f\")"
   ]
  },
  {
   "cell_type": "markdown",
   "metadata": {},
   "source": [
    "With player set, we can obtain matches. For the players above, get the matches these players play and also categorize the players and heroes"
   ]
  },
  {
   "cell_type": "code",
   "execution_count": 15,
   "metadata": {
    "collapsed": false
   },
   "outputs": [],
   "source": [
    "# 8 is jug and 74 is invoker and 106 is ember\n",
    "def playerMatchObtain(player, heroList = [8, 74, 106]):\n",
    "    host = \"https://api.stratz.com/api/v1/match\"\n",
    "    queryParams = {\"steamId\": player, \n",
    "                   \"heroId\": heroList,\n",
    "                   \"gameMode\": [2, 22],\n",
    "                   \"lobbyType\": [2, 7],\n",
    "                   \"gameVersion\": 79, \n",
    "                  \"take\": 100}\n",
    "    x = requests.get(host, params = queryParams)\n",
    "    x = x.json()\n",
    "    for entry in x['results']:\n",
    "        matchSet.add(entry['id'])"
   ]
  },
  {
   "cell_type": "code",
   "execution_count": 16,
   "metadata": {
    "collapsed": false
   },
   "outputs": [],
   "source": [
    "matchSet = set()\n",
    "if os.path.exists('matchset.txt'):\n",
    "    matchSet = np.loadtxt('matchset.txt', dtype=np.int64)\n",
    "else:\n",
    "    allplayers = np.loadtxt('playerset.txt', dtype=np.int64)\n",
    "    for player in allplayers:\n",
    "        playerMatchObtain(player, heroList=[74])\n",
    "    matchSet = list(matchSet)\n",
    "    np.savetxt('matchset.txt', matchSet, delimiter=',', fmt = \"%.0f\")"
   ]
  },
  {
   "cell_type": "code",
   "execution_count": 17,
   "metadata": {
    "collapsed": false
   },
   "outputs": [
    {
     "data": {
      "text/plain": [
       "589"
      ]
     },
     "execution_count": 17,
     "metadata": {},
     "output_type": "execute_result"
    }
   ],
   "source": [
    "len(playerSet)"
   ]
  },
  {
   "cell_type": "code",
   "execution_count": 18,
   "metadata": {
    "collapsed": false
   },
   "outputs": [
    {
     "data": {
      "text/plain": [
       "1542"
      ]
     },
     "execution_count": 18,
     "metadata": {},
     "output_type": "execute_result"
    }
   ],
   "source": [
    "len(matchSet)"
   ]
  },
  {
   "cell_type": "markdown",
   "metadata": {
    "collapsed": false
   },
   "source": [
    "** Time to Parse these Matches**\n",
    "Need to make sure to remove tps and wards from buy list as you can buy them at any time depending on the situation"
   ]
  },
  {
   "cell_type": "code",
   "execution_count": 26,
   "metadata": {
    "collapsed": false
   },
   "outputs": [],
   "source": [
    "prototypeDataframe = {\n",
    "    \"invokerItems\": [], \"invokerSideRadiant\": [], \n",
    "    \"invokerSideHero1\": [], \"invokerSideHero2\": [], \n",
    "    \"invokerSideHero3\": [], \"invokerSideHero4\": [],\n",
    "    \"otherSideHero1\": [], \"otherSideHero2\": [],\n",
    "    \"otherSideHero3\": [], \"otherSideHero4\": [],\n",
    "    \"otherSideHero5\": [], \n",
    "    \"invokerSideHero1Steam\": [], \"invokerSideHero2Steam\": [], \n",
    "    \"invokerSideHero3Steam\": [], \"invokerSideHero4Steam\": [],\n",
    "    \"otherSideHero1Steam\": [], \"otherSideHero2Steam\": [],\n",
    "    \"otherSideHero3Steam\": [], \"otherSideHero4Steam\": [],\n",
    "    \"otherSideHero5Steam\": [], \"matchId\": []\n",
    "}\n",
    "session = requests.Session()\n",
    "def analyzeMatchesForFeatures(matchList, heroesToTestItems = [8, 74, 106], ):\n",
    "    hostInitial = \"https://api.stratz.com/api/v1/match/\"\n",
    "    rs = (grequests.get(hostInitial + str(match), session=session) for match in matchList)\n",
    "    x = grequests.map(rs, size = 50)\n",
    "    for matchUnparsed in x:\n",
    "        if not matchUnparsed.ok:\n",
    "            matchUnparsed.close()\n",
    "            continue\n",
    "        match = matchUnparsed.json()\n",
    "        radiantHeroes = []\n",
    "        direHeroes = []\n",
    "        radiantSteams = []\n",
    "        direSteams = []\n",
    "        invokerSideRadiant = None\n",
    "        for player in match['players']:\n",
    "            # we have the invoker\n",
    "            if player['hero'] == 74:\n",
    "                invokerSideRadiant = player['slot'] < 5\n",
    "                invokerItems = [event['item'] for event in player['purchaseEvents']]\n",
    "            else:\n",
    "                if player['slot'] < 5:\n",
    "                    radiantHeroes.append(player['hero'])\n",
    "                    radiantSteams.append(player['steamId'])\n",
    "                else: \n",
    "                    direHeroes.append(player['hero'])\n",
    "                    direSteams.append(player['steamId'])\n",
    "        invokerWon = invokerSideRadiant == match['didRadiantWin']\n",
    "        if not invokerWon:\n",
    "            matchUnparsed.close()\n",
    "            continue\n",
    "        prototypeDataframe['matchId'].append(match['id'])\n",
    "        prototypeDataframe['invokerSideRadiant'].append(invokerSideRadiant)\n",
    "        prototypeDataframe['invokerItems'].append(invokerItems)\n",
    "        if invokerSideRadiant:\n",
    "            invokerSideHeroes = radiantHeroes\n",
    "            invokerSideSteams = radiantSteams\n",
    "            otherSideHeroes = direHeroes\n",
    "            otherSideSteams = direSteams\n",
    "        else:\n",
    "            invokerSideHeroes = direHeroes\n",
    "            invokerSideSteams = direSteams\n",
    "            otherSideHeroes = radiantHeroes\n",
    "            otherSideSteams = radiantSteams\n",
    "        for ix1 in range(5):\n",
    "            prototypeDataframe['otherSideHero' + str(ix1+1)].append(otherSideHeroes[ix1])\n",
    "            prototypeDataframe['otherSideHero' + str(ix1+1) + 'Steam'].append(otherSideSteams[ix1])\n",
    "            if ix1 != 4:\n",
    "                prototypeDataframe['invokerSideHero' + str(ix1+1)].append(invokerSideHeroes[ix1])\n",
    "                prototypeDataframe['invokerSideHero'+ str(ix1+1) + 'Steam'].append(invokerSideSteams[ix1])\n",
    "        matchUnparsed.close()"
   ]
  },
  {
   "cell_type": "code",
   "execution_count": 27,
   "metadata": {
    "collapsed": false
   },
   "outputs": [],
   "source": [
    "from scipy import stats\n",
    "def GetHeroHistory(steamid, heroid):\n",
    "    host = \"https://api.stratz.com/api/v1/match\"\n",
    "    queryParams = {\"steamId\": steamid, \n",
    "                   \"heroId\": heroid,\n",
    "                   \"include\": \"Player\",\n",
    "                   \"playerType\": \"Single\",\n",
    "                   \"gameMode\": [2, 22],\n",
    "                   \"lobbyType\": [2, 7],\n",
    "                   \"gameVersion\": 79, \n",
    "                  \"take\": 100}\n",
    "    x = requests.get(host, params = queryParams)\n",
    "    print(x)\n",
    "    x = x.json()\n",
    "    features = {'kills': [], 'deaths': [], 'assists': [], \n",
    "                'lastHits': [], 'denies': [], 'gold': [], 'xp': [],\n",
    "                'heroDamage': [], 'heroHealing': [], 'role': []}\n",
    "    # operating on the game level\n",
    "    for game in x['results']:\n",
    "        # duration is in seconds\n",
    "        duration = game['duration']\n",
    "        features['kills'].append(game['players'][0]['numKills'])\n",
    "        features['deaths'].append(game['players'][0]['numDeaths'])\n",
    "        features['assists'].append(game['players'][0]['numAssists'])\n",
    "        features['lastHits'].append(game['players'][0]['numLastHits'])\n",
    "        features['denies'].append(game['players'][0]['numDenies'])\n",
    "        features['gold'].append(game['players'][0]['goldPerMinute'] * 1.0 * duration/60)\n",
    "        features['xp'].append(game['players'][0]['expPerMinute'] * 1.0 * duration/60)\n",
    "        features['heroDamage'].append(game['players'][0]['heroDamage'])\n",
    "        features['heroHealing'].append(game['players'][0]['heroHealing'])\n",
    "        features['role'].append(game['players'][0]['role'])\n",
    "    return {'kills': np.mean(features['kills']), 'deaths': np.mean(features['deaths']), \n",
    "            'assists': np.mean(features['assists']), \n",
    "            'lastHits': np.mean(features['lastHits']), 'denies': np.mean(features['denies']), \n",
    "            'gold': np.mean(features['gold']), 'xp': np.mean(features['xp']),\n",
    "            'heroDamage': np.mean(features['heroDamage']), 'heroHealing': np.mean(features['heroHealing']), \n",
    "            'role': stats.mode(features['role'])[0][0]}"
   ]
  },
  {
   "cell_type": "code",
   "execution_count": 28,
   "metadata": {
    "collapsed": false
   },
   "outputs": [
    {
     "name": "stdout",
     "output_type": "stream",
     "text": [
      "<Response [200]>\n"
     ]
    },
    {
     "data": {
      "text/plain": [
       "{'assists': 10.714285714285714,\n",
       " 'deaths': 5.0,\n",
       " 'denies': 23.523809523809526,\n",
       " 'gold': 23939.938095238093,\n",
       " 'heroDamage': 28706.238095238095,\n",
       " 'heroHealing': 0.0,\n",
       " 'kills': 9.0952380952380949,\n",
       " 'lastHits': 266.14285714285717,\n",
       " 'role': 0,\n",
       " 'xp': 26422.60396825397}"
      ]
     },
     "execution_count": 28,
     "metadata": {},
     "output_type": "execute_result"
    }
   ],
   "source": [
    "GetHeroHistory(54325937, 74)"
   ]
  },
  {
   "cell_type": "code",
   "execution_count": 6,
   "metadata": {
    "collapsed": false
   },
   "outputs": [],
   "source": [
    "if not os.path.exists('invokerMatchFeatureSetPlus.csv'):\n",
    "    analyzeMatchesForFeatures(matchSet[0:20])\n",
    "    invokerMatchFeatureSetPlus = pd.DataFrame(prototypeDataframe)\n",
    "    invokerMatchFeatureSetPlus.to_csv('invokerMatchFeatureSetPlus.csv', index=False)\n",
    "else:\n",
    "    invokerMatchFeatureSetPlus = pd.read_csv('invokerMatchFeatureSetPlus.csv')"
   ]
  },
  {
   "cell_type": "markdown",
   "metadata": {},
   "source": [
    "**Time to augment the invoker matches**"
   ]
  },
  {
   "cell_type": "code",
   "execution_count": 25,
   "metadata": {
    "collapsed": false
   },
   "outputs": [
    {
     "name": "stdout",
     "output_type": "stream",
     "text": [
      "3305848843\n",
      "3312410661\n",
      "3311329375\n",
      "3290996919\n",
      "3303555278\n",
      "3295068374\n",
      "3306594547\n",
      "3320529145\n",
      "3318153509\n",
      "3298107700\n",
      "3307831642\n",
      "3322798437\n",
      "3311165840\n",
      "3295076753\n",
      "3303907736\n",
      "3300532640\n",
      "3308429732\n",
      "3300368814\n",
      "3290735042\n",
      "3323707886\n",
      "3291013636\n",
      "3289555467\n",
      "3319022095\n",
      "3320185379\n",
      "3308683837\n",
      "3294945855\n",
      "3303653955\n",
      "3293160009\n",
      "3320881756\n",
      "3306865253\n",
      "3311919742\n",
      "3307930260\n",
      "3296649877\n",
      "3296133795\n",
      "3293250229\n",
      "3302998721\n",
      "3312812748\n",
      "3305013972\n",
      "3321946848\n",
      "3301737194\n",
      "3307127540\n",
      "3299189493\n",
      "3301614346\n",
      "3307447072\n",
      "3313853232\n",
      "3319366457\n",
      "3293397819\n",
      "3301589824\n",
      "3300606798\n",
      "3310871375\n",
      "3309781846\n",
      "3289457505\n",
      "3307537261\n",
      "3321799534\n",
      "3311592308\n",
      "3298976637\n",
      "3289645959\n",
      "3310789511\n",
      "3312264076\n",
      "3296535491\n",
      "3305849810\n",
      "3308323835\n",
      "3291218940\n",
      "3305702407\n",
      "3298862090\n",
      "3289121822\n",
      "3299763261\n",
      "3312944213\n",
      "3300394105\n",
      "3301418114\n",
      "3294725255\n",
      "3325723787\n",
      "3294864534\n",
      "3309528239\n",
      "3320186033\n",
      "3312641215\n",
      "3320235237\n",
      "3302794471\n",
      "3322012917\n",
      "3312592133\n",
      "3300680970\n",
      "3312272654\n",
      "3301573929\n",
      "3320816976\n",
      "3304850768\n",
      "3305555302\n",
      "3313714546\n",
      "3301533044\n",
      "3323372925\n",
      "3317925269\n",
      "3310986660\n",
      "3297019300\n",
      "3308512695\n",
      "3313853897\n",
      "3320759756\n",
      "3306186202\n",
      "3315934708\n",
      "3318072821\n",
      "3324265986\n",
      "3317073443\n",
      "3315246633\n",
      "3307079236\n",
      "3290785432\n",
      "3313141433\n",
      "3289269945\n",
      "3296470716\n",
      "3299698368\n",
      "3314443977\n",
      "3294922443\n",
      "3321906932\n",
      "3317491483\n",
      "3294873380\n",
      "3311429433\n",
      "3289130818\n",
      "3324987207\n",
      "3324102509\n",
      "3323479928\n",
      "3309365118\n",
      "3295422336\n",
      "3313608603\n",
      "3322292134\n",
      "3288950719\n",
      "3309914055\n",
      "3308939242\n",
      "3311798258\n",
      "3317680129\n",
      "3297462292\n",
      "3315779611\n",
      "3315615771\n",
      "3291031588\n",
      "3306866725\n",
      "3309725754\n",
      "3298060361\n",
      "3305506896\n",
      "3293210715\n",
      "3299117158\n",
      "3294267520\n",
      "3296045206\n",
      "3290409122\n",
      "3300370626\n",
      "3323455689\n",
      "3308906700\n",
      "3311773916\n",
      "3291678941\n",
      "3319064797\n",
      "3309283582\n",
      "3311503682\n",
      "3296790880\n",
      "3303483769\n",
      "3317991814\n",
      "3299379602\n",
      "3323161015\n",
      "3306301949\n",
      "3314895378\n",
      "3306736150\n",
      "3319204472\n",
      "3308677752\n",
      "3295963772\n",
      "3301460616\n",
      "3317418648\n",
      "3297200854\n",
      "3325848280\n",
      "3300289248\n",
      "3311708919\n",
      "3290213135\n",
      "3310308112\n",
      "3308997393\n",
      "3307375417\n",
      "3320171338\n",
      "3289713505\n",
      "3293285233\n",
      "3319876482\n",
      "3325676426\n",
      "3322137486\n",
      "3313281944\n",
      "3288861625\n",
      "3310889943\n",
      "3318213642\n",
      "3321646092\n",
      "3321973790\n",
      "3323726886\n",
      "3309055038\n",
      "3319286876\n",
      "3317828702\n",
      "3301723244\n",
      "3306228851\n",
      "3317927113\n",
      "3317411034\n",
      "3305458917\n",
      "3305630954\n",
      "3297078548\n",
      "3312274777\n",
      "3294055775\n",
      "3321957746\n",
      "3321646455\n",
      "3320049031\n",
      "3293056395\n",
      "3309120910\n",
      "3320057235\n",
      "3305958829\n",
      "3298987470\n",
      "3292180010\n",
      "3309465135\n",
      "3290263129\n",
      "3315756648\n",
      "3310587501\n",
      "3296661120\n",
      "3308867246\n",
      "3318984373\n",
      "3297160891\n",
      "3305287383\n",
      "3325652705\n",
      "3295022828\n",
      "3323318012\n",
      "3325316906\n",
      "3294842687\n",
      "3303657282\n",
      "3306655569\n",
      "3297406804\n",
      "3319918427\n",
      "3317567364\n",
      "3317985167\n",
      "3305705364\n",
      "3294195639\n",
      "3293261759\n",
      "3313782732\n",
      "3300429780\n",
      "3320917978\n",
      "3296366555\n",
      "3306901477\n",
      "3305476071\n",
      "3305172970\n",
      "3319713772\n",
      "3299307506\n",
      "3290058756\n",
      "3308933127\n",
      "3291828258\n",
      "3318599717\n",
      "3301412916\n",
      "3297382472\n",
      "3301429321\n",
      "3303632981\n",
      "3300929649\n",
      "3293106293\n",
      "3311308919\n",
      "3310629017\n",
      "3290280113\n",
      "3291156664\n",
      "3318296785\n",
      "3320590560\n",
      "3299422439\n",
      "3311562995\n",
      "3319263496\n",
      "3297857814\n",
      "3310547255\n",
      "3304042828\n",
      "3321377181\n",
      "3302543783\n",
      "3288904126\n",
      "3321000393\n",
      "3301429766\n",
      "3297219091\n",
      "3290509868\n",
      "3308835375\n",
      "3311194697\n",
      "3323761231\n",
      "3305820767\n",
      "3294483041\n",
      "3289100910\n",
      "3293917838\n",
      "3323892384\n",
      "3322860234\n",
      "3316118245\n",
      "3307754221\n",
      "3319411496\n",
      "3310490470\n",
      "3313488744\n",
      "3310564206\n",
      "3289879406\n",
      "3290223482\n",
      "3314578325\n",
      "3301028758\n",
      "3299513244\n",
      "3325809590\n",
      "3315340224\n",
      "3296768978\n",
      "3310605286\n",
      "3290903536\n",
      "3320132602\n",
      "3322065916\n",
      "3293246475\n",
      "3309327372\n",
      "3304535097\n",
      "3321287755\n",
      "3302724689\n",
      "3300389974\n",
      "3302618204\n",
      "3289330783\n",
      "3323909277\n",
      "3291297034\n",
      "3293295897\n",
      "3311768905\n",
      "3302036824\n",
      "3300521322\n",
      "3289232770\n",
      "3319920012\n",
      "3318101415\n",
      "3297154487\n",
      "3307804142\n",
      "3301774832\n",
      "3305215477\n",
      "3307951686\n",
      "3292100182\n",
      "3303962199\n",
      "3289593443\n",
      "3313038951\n",
      "3305838211\n",
      "3301742216\n",
      "3319305869\n",
      "3319731855\n",
      "3323369131\n",
      "3307427502\n",
      "3298367182\n",
      "3291051745\n",
      "3296040690\n",
      "3305101146\n",
      "3323844457\n",
      "3289659250\n",
      "3323664314\n",
      "3323983824\n",
      "3290879955\n",
      "3310819318\n",
      "3305371640\n",
      "3301734412\n",
      "3307624467\n",
      "3301079095\n",
      "3316004924\n",
      "3319076943\n",
      "3297130597\n",
      "3317635176\n",
      "3324926058\n",
      "3319126135\n",
      "3304863892\n",
      "3319019683\n",
      "3292174517\n",
      "3315906744\n",
      "3317938392\n",
      "3299047645\n",
      "3324745999\n",
      "3303323952\n",
      "3311434035\n",
      "3301128513\n",
      "3318675804\n",
      "3323066731\n",
      "3300383094\n",
      "3292862842\n",
      "3303397782\n",
      "3324729760\n",
      "3311778213\n",
      "3304135086\n",
      "3314940374\n",
      "3319019993\n",
      "3309861386\n",
      "3309402638\n",
      "3293379090\n",
      "3304430106\n",
      "3291011617\n",
      "3311237666\n",
      "3303979567\n",
      "3296107191\n",
      "3314809530\n",
      "3301366460\n",
      "3305388743\n",
      "3305175756\n",
      "3321543401\n",
      "3303987945\n",
      "3324943094\n",
      "3325098756\n",
      "3317947155\n",
      "3306257177\n",
      "3303848738\n",
      "3307715364\n",
      "3309468461\n",
      "3320322865\n",
      "3297377077\n",
      "3295370073\n",
      "3323149147\n",
      "3307584374\n",
      "3300694908\n",
      "3317783453\n",
      "3301440452\n",
      "3299187656\n",
      "3305700344\n",
      "3311549456\n",
      "3292396573\n",
      "3315473440\n",
      "3306036275\n",
      "3302906934\n",
      "3314760774\n",
      "3324091485\n",
      "3309550729\n",
      "3311500432\n",
      "3296992412\n",
      "3303423148\n",
      "3311287484\n",
      "3291094213\n",
      "3323337929\n",
      "3304152281\n",
      "3307977950\n",
      "3321273586\n",
      "3303464192\n",
      "3306495253\n",
      "3324951865\n",
      "3320159563\n",
      "3314105690\n",
      "3297860986\n",
      "3295436171\n",
      "3289849249\n",
      "3324665249\n",
      "3304775098\n",
      "3301752274\n",
      "3297287657\n",
      "3325296105\n",
      "3319881212\n",
      "3305905715\n",
      "3315842615\n",
      "3317497422\n",
      "3310878290\n",
      "3305168477\n",
      "3308838531\n",
      "3302416031\n",
      "3301318321\n",
      "3296657080\n",
      "3315957443\n",
      "3289022165\n",
      "3299106525\n",
      "3307732708\n",
      "3313024762\n",
      "3292225275\n",
      "3313205004\n",
      "3294175003\n",
      "3311132452\n",
      "3295305526\n",
      "3303718715\n",
      "3301613386\n",
      "3304193866\n",
      "3289472844\n",
      "3317448528\n",
      "3292946268\n",
      "3313753974\n",
      "3306635131\n",
      "3316146059\n",
      "3324854173\n",
      "3306692533\n",
      "3313344441\n",
      "3295510526\n"
     ]
    },
    {
     "data": {
      "text/plain": [
       "0      None\n",
       "1      None\n",
       "2      None\n",
       "3      None\n",
       "4      None\n",
       "5      None\n",
       "6      None\n",
       "7      None\n",
       "8      None\n",
       "9      None\n",
       "10     None\n",
       "11     None\n",
       "12     None\n",
       "13     None\n",
       "14     None\n",
       "15     None\n",
       "16     None\n",
       "17     None\n",
       "18     None\n",
       "19     None\n",
       "20     None\n",
       "21     None\n",
       "22     None\n",
       "23     None\n",
       "24     None\n",
       "25     None\n",
       "26     None\n",
       "27     None\n",
       "28     None\n",
       "29     None\n",
       "       ... \n",
       "426    None\n",
       "427    None\n",
       "428    None\n",
       "429    None\n",
       "430    None\n",
       "431    None\n",
       "432    None\n",
       "433    None\n",
       "434    None\n",
       "435    None\n",
       "436    None\n",
       "437    None\n",
       "438    None\n",
       "439    None\n",
       "440    None\n",
       "441    None\n",
       "442    None\n",
       "443    None\n",
       "444    None\n",
       "445    None\n",
       "446    None\n",
       "447    None\n",
       "448    None\n",
       "449    None\n",
       "450    None\n",
       "451    None\n",
       "452    None\n",
       "453    None\n",
       "454    None\n",
       "455    None\n",
       "Length: 456, dtype: object"
      ]
     },
     "execution_count": 25,
     "metadata": {},
     "output_type": "execute_result"
    }
   ],
   "source": [
    "def invokerRowAugment(row):\n",
    "    data = {}\n",
    "    # go over the four players on invoker side and five on other side\n",
    "    for ix1 in range(5):\n",
    "        \n",
    "    \n",
    "    \n",
    "invokerMatchFeatureSetPlus.apply(invokerRowAugment, axis=1)"
   ]
  },
  {
   "cell_type": "code",
   "execution_count": null,
   "metadata": {
    "collapsed": true
   },
   "outputs": [],
   "source": []
  }
 ],
 "metadata": {
  "kernelspec": {
   "display_name": "Python 3",
   "language": "python",
   "name": "python3"
  },
  "language_info": {
   "codemirror_mode": {
    "name": "ipython",
    "version": 3
   },
   "file_extension": ".py",
   "mimetype": "text/x-python",
   "name": "python",
   "nbconvert_exporter": "python",
   "pygments_lexer": "ipython3",
   "version": "3.5.2"
  }
 },
 "nbformat": 4,
 "nbformat_minor": 0
}
