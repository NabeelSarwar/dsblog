{
 "cells": [
  {
   "cell_type": "code",
   "execution_count": 1,
   "metadata": {
    "collapsed": false
   },
   "outputs": [],
   "source": [
    "import pandas as pd\n",
    "import numpy as np\n",
    "import requests\n",
    "import grequests\n",
    "import os.path"
   ]
  },
  {
   "cell_type": "code",
   "execution_count": 2,
   "metadata": {
    "collapsed": true
   },
   "outputs": [],
   "source": [
    "# auxiliary function for below\n",
    "def split(theList, n):\n",
    "    for i in range(0, len(theList), n):\n",
    "        yield theList[i:i + n]"
   ]
  },
  {
   "cell_type": "code",
   "execution_count": 3,
   "metadata": {
    "collapsed": true
   },
   "outputs": [],
   "source": [
    "host = \"https://api.stratz.com/api/v1/match\""
   ]
  },
  {
   "cell_type": "code",
   "execution_count": 4,
   "metadata": {
    "collapsed": false
   },
   "outputs": [],
   "source": [
    "params = {\"matchId\":[3304258209,3304204784], \n",
    "          \"include\": [\"Player\"],\n",
    "         \"gameMode\": [2, 22],\n",
    "         \"lobbyType\": [2, 7]}"
   ]
  },
  {
   "cell_type": "code",
   "execution_count": 5,
   "metadata": {
    "collapsed": false
   },
   "outputs": [],
   "source": [
    "x = requests.get(host, params = params)"
   ]
  },
  {
   "cell_type": "code",
   "execution_count": 6,
   "metadata": {
    "collapsed": false
   },
   "outputs": [
    {
     "data": {
      "text/plain": [
       "<Response [200]>"
      ]
     },
     "execution_count": 6,
     "metadata": {},
     "output_type": "execute_result"
    }
   ],
   "source": [
    "x"
   ]
  },
  {
   "cell_type": "code",
   "execution_count": 7,
   "metadata": {
    "collapsed": false
   },
   "outputs": [],
   "source": [
    "host = \"https://api.stratz.com/api/v1/match/3304258209\"\n",
    "rs = (grequests.get(host),)\n",
    "x = grequests.map(rs)\n",
    "data = x[0].json()"
   ]
  },
  {
   "cell_type": "code",
   "execution_count": 8,
   "metadata": {
    "collapsed": false
   },
   "outputs": [
    {
     "name": "stdout",
     "output_type": "stream",
     "text": [
      "dict_keys(['clusterId', 'challenge', 'id', 'lobbyType', 'rank', 'roshanEvents', 'gameVersionId', 'runeEvents', 'isStats', 'gameResult', 'firstBloodTime', 'didRadiantWin', 'duration', 'gameMode', 'parsedDate', 'wardEvents', 'towerDeathEvents', 'avgImp', 'bracket', 'regionId', 'direKills', 'players', 'buildingEvents', 'radiantKills', 'replaySalt', 'tier', 'courierEvents', 'endDate'])\n"
     ]
    }
   ],
   "source": [
    "keys = data.keys()\n",
    "print(keys)"
   ]
  },
  {
   "cell_type": "code",
   "execution_count": 9,
   "metadata": {
    "collapsed": false
   },
   "outputs": [
    {
     "data": {
      "text/plain": [
       "[188,\n",
       " 43,\n",
       " 29,\n",
       " 38,\n",
       " 46,\n",
       " 46,\n",
       " 84,\n",
       " 244,\n",
       " 27,\n",
       " 27,\n",
       " 214,\n",
       " 46,\n",
       " 46,\n",
       " 46,\n",
       " 25,\n",
       " 182,\n",
       " 46,\n",
       " 46,\n",
       " 64,\n",
       " 65,\n",
       " 46,\n",
       " 46,\n",
       " 23,\n",
       " 21,\n",
       " 22,\n",
       " 60,\n",
       " 108]"
      ]
     },
     "execution_count": 9,
     "metadata": {},
     "output_type": "execute_result"
    }
   ],
   "source": [
    "testsequence = [event['item'] for event in data['players'][0]['purchaseEvents']]\n",
    "testitems = [45, 42, 44]\n",
    "list(filter(lambda a: a not in testitems, testsequence))"
   ]
  },
  {
   "cell_type": "code",
   "execution_count": 10,
   "metadata": {
    "collapsed": false
   },
   "outputs": [
    {
     "data": {
      "text/plain": [
       "dict_keys(['clusterId', 'challenge', 'id', 'lobbyType', 'rank', 'roshanEvents', 'gameVersionId', 'runeEvents', 'isStats', 'gameResult', 'firstBloodTime', 'didRadiantWin', 'duration', 'gameMode', 'parsedDate', 'wardEvents', 'towerDeathEvents', 'avgImp', 'bracket', 'regionId', 'direKills', 'players', 'buildingEvents', 'radiantKills', 'replaySalt', 'tier', 'courierEvents', 'endDate'])"
      ]
     },
     "execution_count": 10,
     "metadata": {},
     "output_type": "execute_result"
    }
   ],
   "source": [
    "keys"
   ]
  },
  {
   "cell_type": "code",
   "execution_count": 11,
   "metadata": {
    "collapsed": false
   },
   "outputs": [
    {
     "data": {
      "text/plain": [
       "dict_keys(['role', 'abilityLearnEvents', 'item3', 'heroDamage', 'level', 'abilityActiveLists', 'item4', 'item1', 'playerUpdateLevelEvents', 'item0', 'goldPerMinute', 'award', 'expPerMinute', 'healEvents', 'playerUpdateGoldEvents', 'soloRank', 'isRadiant', 'name', 'deathEvents', 'leaverStatus', 'lane', 'imp', 'playerUpdatePositionEvents', 'towerDamageEvents', 'inventoryEvent', 'assistEvents', 'heroDamageEvents', 'purchaseEvents', 'avatar', 'steamId', 'numDeaths', 'avatarMedium', 'numDenies', 'slot', 'killEvents', 'goldSpent', 'heroAvgImp', 'heroHealing', 'csEvents', 'avatarFull', 'abilityUsedEvents', 'item5', 'playerUpdateAttributeEvents', 'buyBackEvents', 'towerDamage', 'experienceEvents', 'numAssists', 'goldEvents', 'partyRank', 'hero', 'playerUpdateHealthEvents', 'profileUrl', 'numKills', 'playerUpdateBattleEvents', 'item2', 'numLastHits'])"
      ]
     },
     "execution_count": 11,
     "metadata": {},
     "output_type": "execute_result"
    }
   ],
   "source": [
    "data['players'][0].keys()"
   ]
  },
  {
   "cell_type": "code",
   "execution_count": 12,
   "metadata": {
    "collapsed": false
   },
   "outputs": [
    {
     "name": "stdout",
     "output_type": "stream",
     "text": [
      "1\n",
      "1\n",
      "92\n",
      "[{'item': 188, 'time': -89}, {'item': 43, 'time': -89}, {'item': 29, 'time': -89}, {'item': 44, 'time': -89}, {'item': 38, 'time': -89}, {'item': 46, 'time': -85}, {'item': 46, 'time': -84}, {'item': 84, 'time': 187}, {'item': 42, 'time': 193}, {'item': 42, 'time': 236}, {'item': 42, 'time': 384}, {'item': 244, 'time': 389}, {'item': 27, 'time': 389}, {'item': 27, 'time': 432}, {'item': 214, 'time': 440}, {'item': 46, 'time': 509}, {'item': 42, 'time': 528}, {'item': 46, 'time': 603}, {'item': 46, 'time': 719}, {'item': 42, 'time': 720}, {'item': 25, 'time': 809}, {'item': 182, 'time': 811}, {'item': 42, 'time': 816}, {'item': 46, 'time': 882}, {'item': 46, 'time': 1059}, {'item': 64, 'time': 1264}, {'item': 65, 'time': 1264}, {'item': 46, 'time': 1277}, {'item': 46, 'time': 1533}, {'item': 23, 'time': 1758}, {'item': 21, 'time': 1758}, {'item': 22, 'time': 1758}, {'item': 60, 'time': 1760}, {'item': 108, 'time': 1760}, {'item': 42, 'time': 1919}]\n",
      "0\n",
      "1\n",
      "2\n",
      "3\n",
      "4\n",
      "128\n",
      "129\n",
      "130\n",
      "131\n",
      "132\n"
     ]
    }
   ],
   "source": [
    "print(data['players'][0]['role'])\n",
    "print(data['players'][0]['lane'])\n",
    "print(data['players'][0]['hero'])\n",
    "print(data['players'][0]['purchaseEvents'])\n",
    "for player in data['players']:\n",
    "    print(player['slot'])"
   ]
  },
  {
   "cell_type": "markdown",
   "metadata": {},
   "source": [
    "**Need to get steamIDs for players by going through the matchIDs of high level games**"
   ]
  },
  {
   "cell_type": "code",
   "execution_count": 13,
   "metadata": {
    "collapsed": true
   },
   "outputs": [],
   "source": [
    "def nextBatchOfMatches(idList):\n",
    "    queryParams = {\"matchId\":idList, \n",
    "          \"include\": [\"Player\"],\n",
    "         \"gameMode\": [2, 22],\n",
    "         \"lobbyType\": [2, 7]}\n",
    "    x = requests.get(host, params = queryParams)\n",
    "    x = x.json()\n",
    "    for entry in x['results']:\n",
    "        for player in entry['players']:\n",
    "            playerSet.add(player['steamId'])"
   ]
  },
  {
   "cell_type": "code",
   "execution_count": 14,
   "metadata": {
    "collapsed": false
   },
   "outputs": [],
   "source": [
    "if os.path.exists('playerset.txt'):\n",
    "    playerSet = np.loadtxt('playerset.txt', dtype=np.int64)\n",
    "else:\n",
    "    playerSet = set()\n",
    "    allMatches = np.loadtxt('matchids.txt', dtype=np.int64)\n",
    "    allMatches = split(allMatches, 10)\n",
    "    for matches in allMatches:\n",
    "        nextBatchOfMatches(matches)\n",
    "    playerSet = list(playerSet)\n",
    "    np.savetxt('playerset.txt', playerSet, delimiter=',', fmt = \"%.0f\")"
   ]
  },
  {
   "cell_type": "markdown",
   "metadata": {},
   "source": [
    "With player set, we can obtain matches. For the players above, get the matches these players play and also categorize the players and heroes"
   ]
  },
  {
   "cell_type": "code",
   "execution_count": 15,
   "metadata": {
    "collapsed": false
   },
   "outputs": [],
   "source": [
    "# 8 is jug and 74 is invoker and 106 is ember\n",
    "def playerMatchObtain(player, heroList = [8, 74, 106]):\n",
    "    host = \"https://api.stratz.com/api/v1/match\"\n",
    "    queryParams = {\"steamId\": player, \n",
    "                   \"heroId\": heroList,\n",
    "                   \"gameMode\": [2, 22],\n",
    "                   \"lobbyType\": [2, 7],\n",
    "                   \"gameVersion\": 79, \n",
    "                  \"take\": 100}\n",
    "    x = requests.get(host, params = queryParams)\n",
    "    x = x.json()\n",
    "    for entry in x['results']:\n",
    "        matchSet.add(entry['id'])"
   ]
  },
  {
   "cell_type": "code",
   "execution_count": 16,
   "metadata": {
    "collapsed": false
   },
   "outputs": [],
   "source": [
    "matchSet = set()\n",
    "if os.path.exists('matchset.txt'):\n",
    "    matchSet = np.loadtxt('matchset.txt', dtype=np.int64)\n",
    "else:\n",
    "    allplayers = np.loadtxt('playerset.txt', dtype=np.int64)\n",
    "    for player in allplayers:\n",
    "        playerMatchObtain(player, heroList=[74])\n",
    "    matchSet = list(matchSet)\n",
    "    np.savetxt('matchset.txt', matchSet, delimiter=',', fmt = \"%.0f\")"
   ]
  },
  {
   "cell_type": "code",
   "execution_count": 17,
   "metadata": {
    "collapsed": false
   },
   "outputs": [
    {
     "data": {
      "text/plain": [
       "589"
      ]
     },
     "execution_count": 17,
     "metadata": {},
     "output_type": "execute_result"
    }
   ],
   "source": [
    "len(playerSet)"
   ]
  },
  {
   "cell_type": "code",
   "execution_count": 18,
   "metadata": {
    "collapsed": false
   },
   "outputs": [
    {
     "data": {
      "text/plain": [
       "1542"
      ]
     },
     "execution_count": 18,
     "metadata": {},
     "output_type": "execute_result"
    }
   ],
   "source": [
    "len(matchSet)"
   ]
  },
  {
   "cell_type": "markdown",
   "metadata": {
    "collapsed": false
   },
   "source": [
    "** Time to Parse these Matches**\n",
    "Need to make sure to remove tps and wards from buy list as you can buy them at any time depending on the situation"
   ]
  },
  {
   "cell_type": "code",
   "execution_count": 58,
   "metadata": {
    "collapsed": false
   },
   "outputs": [],
   "source": [
    "prototypeDataframe = {\n",
    "    \"invokerItems\": [], \"invokerSideRadiant\": [], \n",
    "    \"invokerSideHero1\": [], \"invokerSideHero2\": [], \n",
    "    \"invokerSideHero3\": [], \"invokerSideHero4\": [],\n",
    "    \"otherSideHero1\": [], \"otherSideHero2\": [],\n",
    "    \"otherSideHero3\": [], \"otherSideHero4\": [],\n",
    "    \"otherSideHero5\": [], \n",
    "    \"invokerSideHero1Steam\": [], \"invokerSideHero2Steam\": [], \n",
    "    \"invokerSideHero3Steam\": [], \"invokerSideHero4Steam\": [],\n",
    "    \"otherSideHero1Steam\": [], \"otherSideHero2Steam\": [],\n",
    "    \"otherSideHero3Steam\": [], \"otherSideHero4Steam\": [],\n",
    "    \"otherSideHero5Steam\": [], \"matchId\": []\n",
    "}\n",
    "session = requests.Session()\n",
    "def analyzeMatchesForFeatures(matchList, heroesToTestItems = [8, 74, 106], ):\n",
    "    hostInitial = \"https://api.stratz.com/api/v1/match/\"\n",
    "    rs = (grequests.get(hostInitial + str(match), session=session) for match in matchList)\n",
    "    x = grequests.map(rs, size = 50)\n",
    "    for matchUnparsed in x:\n",
    "        if not matchUnparsed.ok:\n",
    "            matchUnparsed.close()\n",
    "            continue\n",
    "        match = matchUnparsed.json()\n",
    "        radiantHeroes = []\n",
    "        direHeroes = []\n",
    "        radiantSteams = []\n",
    "        direSteams = []\n",
    "        invokerSideRadiant = None\n",
    "        for player in match['players']:\n",
    "            # we have the invoker\n",
    "            if player['hero'] == 74:\n",
    "                invokerSideRadiant = player['slot'] < 5\n",
    "                invokerItems = [event['item'] for event in player['purchaseEvents']]\n",
    "            else:\n",
    "                if player['slot'] < 5:\n",
    "                    radiantHeroes.append(player['hero'])\n",
    "                    radiantSteams.append(player['steamId'])\n",
    "                else: \n",
    "                    direHeroes.append(player['hero'])\n",
    "                    direSteams.append(player['steamId'])\n",
    "        invokerWon = invokerSideRadiant == match['didRadiantWin']\n",
    "        if not invokerWon:\n",
    "            matchUnparsed.close()\n",
    "            continue\n",
    "        prototypeDataframe['matchId'].append(match['id'])\n",
    "        prototypeDataframe['invokerSideRadiant'].append(invokerSideRadiant)\n",
    "        prototypeDataframe['invokerItems'].append(invokerItems)\n",
    "        if invokerSideRadiant:\n",
    "            invokerSideHeroes = radiantHeroes\n",
    "            invokerSideSteams = radiantSteams\n",
    "            otherSideHeroes = direHeroes\n",
    "            otherSideSteams = direSteams\n",
    "        else:\n",
    "            invokerSideHeroes = direHeroes\n",
    "            invokerSideSteams = direSteams\n",
    "            otherSideHeroes = radiantHeroes\n",
    "            otherSideSteams = radiantSteams\n",
    "        for ix1 in range(5):\n",
    "            prototypeDataframe['otherSideHero' + str(ix1+1)].append(otherSideHeroes[ix1])\n",
    "            prototypeDataframe['otherSideHero' + str(ix1+1) + 'Steam'].append(otherSideSteams[ix1])\n",
    "            if ix1 != 4:\n",
    "                prototypeDataframe['invokerSideHero' + str(ix1+1)].append(invokerSideHeroes[ix1])\n",
    "                prototypeDataframe['invokerSideHero'+ str(ix1+1) + 'Steam'].append(invokerSideSteams[ix1])\n",
    "        matchUnparsed.close()\n",
    "            \n",
    "def GetHeroHistory(steamid, heroid):\n",
    "    host = \"https://api.stratz.com/api/v1/match\"\n",
    "    queryParams = {\"steamId\": steamid, \n",
    "                   \"heroId\": heroid,\n",
    "                   \"include\": \"Player\",\n",
    "                   \"playerType\": \"Single\",\n",
    "                   \"gameMode\": [2, 22],\n",
    "                   \"lobbyType\": [2, 7],\n",
    "                   \"gameVersion\": 79, \n",
    "                  \"take\": 100}\n",
    "    x = requests.get(host, params = queryParams)\n",
    "    print(x)\n",
    "    x = x.json()\n",
    "    features = {'kills': [], 'deaths': [], 'lastHits': [], 'gold': [], 'obs': [], 'sens': []}\n",
    "    print(x['results'][0].keys())\n",
    "    print(x['results'][0]['players'][0].keys())"
   ]
  },
  {
   "cell_type": "code",
   "execution_count": 59,
   "metadata": {
    "collapsed": false
   },
   "outputs": [
    {
     "name": "stdout",
     "output_type": "stream",
     "text": [
      "<Response [200]>\n",
      "dict_keys(['clusterId', 'firstBloodTime', 'didRadiantWin', 'duration', 'gameMode', 'parsedDate', 'id', 'direKills', 'avgImp', 'bracket', 'rank', 'endDate', 'players', 'isStats', 'radiantKills', 'gameResult', 'tier', 'replaySalt', 'lobbyType'])\n",
      "dict_keys(['role', 'level', 'partyId', 'item3', 'award', 'avatar', 'steamId', 'numDeaths', 'heroDamage', 'item4', 'numDenies', 'slot', 'name', 'heroHealing', 'item1', 'avatarMedium', 'goldSpent', 'towerDamage', 'item5', 'avatarFull', 'lane', 'item0', 'isRadiant', 'partyRank', 'expPerMinute', 'item2', 'soloRank', 'goldPerMinute', 'hero', 'imp', 'leaverStatus', 'profileUrl', 'numKills', 'numAssists', 'numLastHits'])\n"
     ]
    }
   ],
   "source": [
    "GetHeroHistory(54325937, 74)"
   ]
  },
  {
   "cell_type": "code",
   "execution_count": null,
   "metadata": {
    "collapsed": false
   },
   "outputs": [],
   "source": [
    "if not os.path.exists('invokerMatchFeatureSetPlus.csv'):\n",
    "    #analyzeMatchesForFeatures(matchSet[0:20])\n",
    "    #invokerMatchFeatureSetPlus = pd.DataFrame(prototypeDataframe)\n",
    "    #invokerMatchFeatureSetPlus.to_csv('invokerMatchFeatureSetPlus.csv', index=False)"
   ]
  }
 ],
 "metadata": {
  "kernelspec": {
   "display_name": "Python 3",
   "language": "python",
   "name": "python3"
  }
 },
 "nbformat": 4,
 "nbformat_minor": 0
}
